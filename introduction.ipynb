{
 "cells": [
  {
   "cell_type": "markdown",
   "id": "7203e3e5-7ec7-40a4-a734-72e4f5852d8a",
   "metadata": {},
   "source": [
    "<center>\n",
    "    <a href=\"https://www.python.org/\"><img src=\"https://1000logos.net/wp-content/uploads/2020/08/Python-Logo-768x480.png\" width=\"200px\"></a>\n",
    "</center>\n",
    "<br>\n",
    "<b>CELL</b> di jupyter ada 2 jenis:\n",
    "<ol>\n",
    "    <li>MarkDown (M)</li>\n",
    "    <li>Code (Y)</li>\n",
    "</ol>\n",
    "<hr>"
   ]
  },
  {
   "cell_type": "markdown",
   "id": "3f68e0c1-8f5d-49a6-a517-7842ecb8b765",
   "metadata": {},
   "source": [
    "Cara menambahkan cell ada 2:\n",
    "<ul>\n",
    "    <li>A (Above) di atas cell</li>\n",
    "    <li>B (Below) di bawah cell</li>\n",
    "</ul>"
   ]
  },
  {
   "cell_type": "markdown",
   "id": "7c99cb37-fc9e-4c6d-974d-49e67897052c",
   "metadata": {},
   "source": [
    "<table>\n",
    "    <tr>\n",
    "        <td>NIM</td>\n",
    "        <td>:</td>\n",
    "        <td>20240040174</td>\n",
    "    </tr>\n",
    "    <tr>\n",
    "        <td>Nama</td>\n",
    "        <td>:</td>\n",
    "        <td>M.Dwi Haryanto</td>\n",
    "    </tr>\n",
    "    <tr>\n",
    "        <td>Kelas</td>\n",
    "        <td>:</td>\n",
    "        <td>TI24G</td>\n",
    "    </tr>\n",
    "</table>"
   ]
  },
  {
   "cell_type": "code",
   "execution_count": 18,
   "id": "74c9b467-b423-4975-a4da-5eba6c7e7a96",
   "metadata": {},
   "outputs": [
    {
     "name": "stdout",
     "output_type": "stream",
     "text": [
      "Python is very easy\n",
      "Sekarang hari Jum'at\n",
      "Deklarasi Variabel \"A\"\n",
      "number\n"
     ]
    },
    {
     "data": {
      "text/plain": [
       "'54'"
      ]
     },
     "execution_count": 18,
     "metadata": {},
     "output_type": "execute_result"
    }
   ],
   "source": [
    "print(\"Python is very easy\")\n",
    "print(\"Sekarang hari Jum'at\")\n",
    "print('Deklarasi Variabel \"A\"')\n",
    "number = \"5\"\n",
    "print(\"number\")\n",
    "int (number) + 10\n",
    "number + \"4\""
   ]
  },
  {
   "cell_type": "code",
   "execution_count": null,
   "id": "94d7f26e-b27a-4171-b843-bfca73383d0f",
   "metadata": {},
   "outputs": [],
   "source": []
  }
 ],
 "metadata": {
  "kernelspec": {
   "display_name": "Python 3 (ipykernel)",
   "language": "python",
   "name": "python3"
  },
  "language_info": {
   "codemirror_mode": {
    "name": "ipython",
    "version": 3
   },
   "file_extension": ".py",
   "mimetype": "text/x-python",
   "name": "python",
   "nbconvert_exporter": "python",
   "pygments_lexer": "ipython3",
   "version": "3.12.7"
  }
 },
 "nbformat": 4,
 "nbformat_minor": 5
}
