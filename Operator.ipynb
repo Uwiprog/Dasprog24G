{
 "cells": [
  {
   "cell_type": "markdown",
   "id": "f9754708",
   "metadata": {},
   "source": [
    "<h1>Operasi Aritmatika</h1>"
   ]
  },
  {
   "cell_type": "code",
   "execution_count": 10,
   "id": "1520fb22",
   "metadata": {},
   "outputs": [
    {
     "name": "stdout",
     "output_type": "stream",
     "text": [
      "Isikan nilai X :3\n",
      "Isikan nilai Y :6\n",
      "Hasil penjumlahan 3 + 6 = 9\n",
      "Hasil penguranggan 3 - 6 = -3\n",
      "Hasil perkalian 3 * 6 = 18\n",
      "Hasil perkalian 3 / 6 = 0.5\n",
      "Hasil perkalian 3 % 6 = 3\n",
      "Hasil perkalian 3 ** 6 = 729\n",
      "Hasil perkalian 3 // 6 = 0\n"
     ]
    }
   ],
   "source": [
    "X = int(input(\"Isikan nilai X :\"))\n",
    "Y = int(input(\"Isikan nilai Y :\"))\n",
    "\n",
    "hasiltambah = X + Y\n",
    "hasilkurang = X - Y\n",
    "hasilkali = X * Y\n",
    "hasilbagi = X / Y\n",
    "hasilmod = X % Y\n",
    "hasilpangkat = X ** Y\n",
    "hasilbagibulat = X // Y\n",
    "\n",
    "print(\"Hasil penjumlahan\",X,\"+\",Y,\"=\",hasiltambah)\n",
    "print(\"Hasil penguranggan\",X,\"-\",Y,\"=\",hasilkurang)\n",
    "print(\"Hasil perkalian\",X,\"*\",Y,\"=\",hasilkali)\n",
    "print(\"Hasil perkalian\",X,\"/\",Y,\"=\",hasilbagi)\n",
    "print(\"Hasil perkalian\",X,\"%\",Y,\"=\",hasilmod)\n",
    "print(\"Hasil perkalian\",X,\"**\",Y,\"=\",hasilpangkat)\n",
    "print(\"Hasil perkalian\",X,\"//\",Y,\"=\",hasilbagibulat)"
   ]
  },
  {
   "cell_type": "markdown",
   "id": "65598b3f",
   "metadata": {},
   "source": [
    "<h1>Operator Penugasan</h1>"
   ]
  },
  {
   "cell_type": "code",
   "execution_count": 11,
   "id": "5d1ebad7",
   "metadata": {},
   "outputs": [
    {
     "name": "stdout",
     "output_type": "stream",
     "text": [
      "Isikan Nilai :15\n",
      "Nilai dari variabel 'number' 15\n",
      "Setelah ditambah dengan 5: 20\n",
      "Setelah dikali 10: 10\n",
      "Setelah dibagi 2: 5.0\n",
      "Setelah dikali 5: 25.0\n"
     ]
    }
   ],
   "source": [
    "number = int(input(\"Isikan Nilai :\"))\n",
    "print(\"Nilai dari variabel 'number'\",number)\n",
    "number+=5\n",
    "print(\"Setelah ditambah dengan 5:\", number)\n",
    "number-=10\n",
    "print(\"Setelah dikali 10:\",number)\n",
    "number/=2\n",
    "print(\"Setelah dibagi 2:\",number)\n",
    "number*=5\n",
    "print(\"Setelah dikali 5:\",number)"
   ]
  },
  {
   "cell_type": "markdown",
   "id": "8f994995",
   "metadata": {},
   "source": [
    "<h1>Operator Perbandingan</h1>"
   ]
  },
  {
   "cell_type": "code",
   "execution_count": 15,
   "id": "6a53d736",
   "metadata": {},
   "outputs": [
    {
     "name": "stdout",
     "output_type": "stream",
     "text": [
      "isikan value 1 :7\n",
      "isikan value2 :4\n",
      "apakah 7 > 4 ? True\n",
      "apakah 7 < 4 ? False\n",
      "apakah 7 >= 4 ? True\n",
      "apakah 7 <= 4 ? False\n",
      "apakah 7 == 4 ? False\n",
      "apakah 7 != 4 ? True\n"
     ]
    }
   ],
   "source": [
    "val1 = int(input(\"isikan value 1 :\"))\n",
    "val2 = int(input(\"isikan value2 :\"))\n",
    "print(\"apakah\",val1,\">\",val2,\"?\", val1>val2)\n",
    "print(\"apakah\",val1,\"<\",val2,\"?\", val1<val2)\n",
    "print(\"apakah\",val1,\">=\",val2,\"?\", val1>=val2)\n",
    "print(\"apakah\",val1,\"<=\",val2,\"?\", val1<=val2)\n",
    "print(\"apakah\",val1,\"==\",val2,\"?\", val1==val2)\n",
    "print(\"apakah\",val1,\"!=\",val2,\"?\", val1!=val2)"
   ]
  },
  {
   "cell_type": "markdown",
   "id": "5030bf8b",
   "metadata": {},
   "source": [
    "<h1>Operator Logika</h1>"
   ]
  },
  {
   "cell_type": "code",
   "execution_count": 16,
   "id": "80debac4",
   "metadata": {},
   "outputs": [
    {
     "name": "stdout",
     "output_type": "stream",
     "text": [
      "Maukan number1 :2\n",
      "Maukan number2 :4\n",
      "Maukan number3 :6\n",
      "Maukan number4 :6\n",
      "apakah 2 > 4 and 6 == 6 ?\n",
      "False\n",
      "apakah 2 > 4 or 6 == 6 ?\n",
      "True\n",
      "apakah 2 > 4 not and 6 == 6 ?\n",
      "True\n",
      "apakah 2 > 4 not or 6 == 6 ?\n",
      "True\n"
     ]
    }
   ],
   "source": [
    "number1 = int(input(\"Maukan number1 :\"))\n",
    "number2 = int(input(\"Maukan number2 :\"))\n",
    "number3 = int(input(\"Maukan number3 :\"))\n",
    "number4 = int(input(\"Maukan number4 :\"))\n",
    "\n",
    "print(\"apakah\",number1,\">\",number2,\"and\",number3,\"==\",number4,\"?\")\n",
    "print(number1>number2 and number3==number4)\n",
    "\n",
    "print(\"apakah\",number1,\">\",number2,\"or\",number3,\"==\",number4,\"?\")\n",
    "print(number1>number2 or number3==number4)\n",
    "\n",
    "#nand (not and)\n",
    "print(\"apakah\",number1,\">\",number2,\"not and\",number3,\"==\",number4,\"?\")\n",
    "print(not number1>number2 and number3==number4)\n",
    "\n",
    "#nor (not or)\n",
    "print(\"apakah\",number1,\">\",number2,\"not or\",number3,\"==\",number4,\"?\")\n",
    "print(not number1>number2 or number3==number4)"
   ]
  },
  {
   "cell_type": "markdown",
   "id": "7b1a7cd3",
   "metadata": {},
   "source": [
    "<h1>Operator identitas</h1"
   ]
  },
  {
   "cell_type": "code",
   "execution_count": 22,
   "id": "e5ab708d",
   "metadata": {},
   "outputs": [
    {
     "name": "stdout",
     "output_type": "stream",
     "text": [
      "Alamat Memori idty1 2679849380432\n",
      "Alamat Memori idty2 2679860365936\n",
      "Alamat Memori idty3 2679849380432\n",
      "Apakah idty1 is idty2? False\n",
      "Apakah idty2 is idty3? False\n",
      "Apakah idty3 is idty1? True\n",
      "Apakah idty1 is not idty2? True\n",
      "Apakah idty2 is not idty3? True\n",
      "Apakah idty3 is not idty1? False\n"
     ]
    }
   ],
   "source": [
    "idty1 = 10\n",
    "idty2 = \"10\"\n",
    "idty3 = idty1\n",
    "\n",
    "print(\"Alamat Memori idty1\",id(idty1))\n",
    "print(\"Alamat Memori idty2\",id(idty2))\n",
    "print(\"Alamat Memori idty3\",id(idty3))\n",
    "print(\"Apakah idty1 is idty2?\", idty1 is idty2)\n",
    "print(\"Apakah idty2 is idty3?\", idty2 is idty3)\n",
    "print(\"Apakah idty3 is idty1?\", idty3 is idty1)\n",
    "print(\"Apakah idty1 is not idty2?\", idty1 is not idty2)\n",
    "print(\"Apakah idty2 is not idty3?\", idty2 is not idty3)\n",
    "print(\"Apakah idty3 is not idty1?\", idty3 is not idty1)"
   ]
  },
  {
   "cell_type": "markdown",
   "id": "b9ac648c",
   "metadata": {},
   "source": [
    "<h1>operator Keanggotaan</h1>"
   ]
  },
  {
   "cell_type": "code",
   "execution_count": 3,
   "id": "2c318a90",
   "metadata": {},
   "outputs": [
    {
     "name": "stdin",
     "output_type": "stream",
     "text": [
      "Insert your friut semongko\n"
     ]
    },
    {
     "name": "stdout",
     "output_type": "stream",
     "text": [
      "Is there any semongko in ['Watermelon', 'Mango', 'Start Fruit', 'Pineapple'] ? False\n",
      "Is there any semongko not in ['Watermelon', 'Mango', 'Start Fruit', 'Pineapple'] ? True\n"
     ]
    }
   ],
   "source": [
    "listFruit = [\"Watermelon\",\"Mango\",\"Start Fruit\",\"Pineapple\"]\n",
    "findFruit = input (\"Insert your friut\")\n",
    "print (\"Is there any\",findFruit,\"in\",listFruit,\"?\",findFruit in listFruit)\n",
    "print(\"Is there any\",findFruit,\"not in\",listFruit,\"?\",findFruit not in listFruit)"
   ]
  },
  {
   "cell_type": "markdown",
   "id": "4db026a7",
   "metadata": {},
   "source": [
    "<h1>Operator Bitwise</h1>"
   ]
  },
  {
   "cell_type": "code",
   "execution_count": 29,
   "id": "97df4dfd",
   "metadata": {},
   "outputs": [
    {
     "name": "stdout",
     "output_type": "stream",
     "text": [
      "Insert bilangan 1: 8\n",
      "Insert bilangan 2: 12\n",
      "\n",
      "0b1000\n",
      "0b1100\n",
      "==========\n",
      "0b1000 = 8\n",
      "\n",
      "0b1000\n",
      "0b1100\n",
      "==========\n",
      "0b1100 = 12\n"
     ]
    }
   ],
   "source": [
    "#Operator Bitwise\n",
    "num1 = int(input(\"Insert bilangan 1: \"))\n",
    "num2 = int(input(\"Insert bilangan 2: \"))\n",
    "\n",
    "print()\n",
    "bAnd = num1&num2\n",
    "print(bin(num1))\n",
    "print(bin(num2))\n",
    "print(\"==========\")\n",
    "print(bin(bAnd),\"=\",bAnd)\n",
    "print()\n",
    "bOr = num1|num2\n",
    "print(bin(num1))\n",
    "print(bin(num2))\n",
    "print(\"==========\")\n",
    "print(bin(bOr),\"=\",bOr)"
   ]
  },
  {
   "cell_type": "markdown",
   "id": "a622734c",
   "metadata": {},
   "source": [
    "<h1>Operator Ternay</h1>"
   ]
  },
  {
   "cell_type": "code",
   "execution_count": 30,
   "id": "84a07a79",
   "metadata": {},
   "outputs": [
    {
     "name": "stdout",
     "output_type": "stream",
     "text": [
      "Isikan bilangan:3\n",
      "3 adalah bilangan Ganjil\n"
     ]
    }
   ],
   "source": [
    "#Bilangan ganjil atau genap\n",
    "bil = int(input(\"Isikan bilangan:\"))\n",
    "oddEven = \"Genap\" if  bil %2==0 else \"Ganjil\"\n",
    "print(bil,\"adalah bilangan\", oddEven)"
   ]
  },
  {
   "cell_type": "markdown",
   "id": "e88f35e8",
   "metadata": {},
   "source": [
    "<h1>Tugas</h1>"
   ]
  },
  {
   "cell_type": "code",
   "execution_count": 1,
   "id": "988fb99d",
   "metadata": {},
   "outputs": [
    {
     "name": "stdout",
     "output_type": "stream",
     "text": [
      "Jumlah esBuah:5\n",
      "Jumlah esTeler:5\n",
      "Jumlah esKelapa:5\n",
      "esBuah: 25000\n",
      "esTeler: 50000\n",
      "esKelapa: 25000\n",
      "Total Takjil: 100000\n",
      "dapat diskon: 5000\n",
      "Total Akhir Takljil: 95000\n",
      "Bayar:100000\n",
      "Anda membayar: 100000\n",
      "Sisa: 5000\n"
     ]
    }
   ],
   "source": [
    "# harga\n",
    "harga1 = 5000\n",
    "harga2 = 10000\n",
    "harga3 = 5000\n",
    "\n",
    "esBuah = int(input(\"Jumlah esBuah:\"))\n",
    "esTeler = int(input(\"Jumlah esTeler:\"))\n",
    "esKelapa = int(input(\"Jumlah esKelapa:\"))\n",
    "\n",
    "Jumlah1 = harga1*esBuah\n",
    "Jumlah2 = harga2*esTeler\n",
    "Jumlah3 = harga3*esKelapa\n",
    "\n",
    "print(\"esBuah:\", Jumlah1)\n",
    "print(\"esTeler:\", Jumlah2)\n",
    "print(\"esKelapa:\", Jumlah3)\n",
    "Jumlah = Jumlah1+Jumlah2+Jumlah3\n",
    "print(\"Total Takjil:\", Jumlah)\n",
    "\n",
    "diskon = int(Jumlah/100)*5 if Jumlah >= 100000 else 0\n",
    "print (\"dapat diskon:\", diskon)\n",
    "TotalAkhir = Jumlah - diskon\n",
    "print(\"Total Akhir Takljil:\", TotalAkhir)\n",
    "\n",
    "Bayar = int(input(\"Bayar:\"))\n",
    "print (\"Anda membayar:\", Bayar)\n",
    "print (\"Sisa:\", Bayar - TotalAkhir)"
   ]
  },
  {
   "cell_type": "code",
   "execution_count": 10,
   "id": "da286446",
   "metadata": {},
   "outputs": [
    {
     "name": "stdout",
     "output_type": "stream",
     "text": [
      "masukan bilangan:1567\n",
      "Hasil: 1548\n"
     ]
    }
   ],
   "source": [
    "bil = (input(\"masukan bilangan:\"))\n",
    "kurang =int(bil[0])+int(bil[1])+int(bil[2])+int(bil[3])\n",
    "pengurangan = int(bil)-kurang\n",
    "print(\"Hasil:\",pengurangan)"
   ]
  }
 ],
 "metadata": {
  "kernelspec": {
   "display_name": "Python [conda env:base] *",
   "language": "python",
   "name": "conda-base-py"
  },
  "language_info": {
   "codemirror_mode": {
    "name": "ipython",
    "version": 3
   },
   "file_extension": ".py",
   "mimetype": "text/x-python",
   "name": "python",
   "nbconvert_exporter": "python",
   "pygments_lexer": "ipython3",
   "version": "3.12.7"
  }
 },
 "nbformat": 4,
 "nbformat_minor": 5
}
