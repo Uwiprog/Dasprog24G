{
 "cells": [
  {
   "cell_type": "markdown",
   "id": "e4bd9ef4-10d1-4335-9634-6b672807b012",
   "metadata": {},
   "source": [
    "<h2>Numpy</h2>"
   ]
  },
  {
   "cell_type": "code",
   "execution_count": 10,
   "id": "366aeb9a-6012-4973-b676-1f49dd5e68ed",
   "metadata": {},
   "outputs": [
    {
     "name": "stdout",
     "output_type": "stream",
     "text": [
      "Nilai mat1D :\n",
      "[1 2 3 4 5 6 7 8 9]\n",
      "Nilai mat2D : \n",
      "[[ 10  20  30  40]\n",
      " [ 50  60  70  80]\n",
      " [ 90 100 110 120]]\n"
     ]
    }
   ],
   "source": [
    "import numpy as np\n",
    "\n",
    "mat1D = np.array([1,2,3,4,5,6,7,8,9])\n",
    "mat2D = np.array([[10,20,30,40],[50,60,70,80],[90,100,110,120]])\n",
    "\n",
    "print(f\"Nilai mat1D :\\n{mat1D}\")\n",
    "print(f\"Nilai mat2D : \\n{mat2D}\")"
   ]
  },
  {
   "cell_type": "code",
   "execution_count": 22,
   "id": "b0dde952-8e5b-473a-b33a-877f8938992a",
   "metadata": {},
   "outputs": [
    {
     "name": "stdout",
     "output_type": "stream",
     "text": [
      "2\n",
      "[50 60 70 80]\n",
      "70\n",
      "mat1D ditambah dengan 10:\n",
      "[11 12 13 14 15 16 17 18 19]\n",
      "mat2D ditambah dengan 2:\n",
      "[[ 12  22  32  42]\n",
      " [ 52  62  72  82]\n",
      " [ 92 102 112 122]]\n"
     ]
    }
   ],
   "source": [
    "print(mat1D[1]) #2\n",
    "print(mat2D[1]) # [50 60 70 80]\n",
    "print(mat2D[1][2]) #70\n",
    "print(f\"mat1D ditambah dengan 10:\\n{mat1D + 10}\")\n",
    "print(f\"mat2D ditambah dengan 2:\\n{mat2D + 2}\")"
   ]
  },
  {
   "cell_type": "code",
   "execution_count": 28,
   "id": "f3dccf8a-f07b-4721-8358-bfb0e2bc193e",
   "metadata": {},
   "outputs": [
    {
     "name": "stdout",
     "output_type": "stream",
     "text": [
      "(9,)\n",
      "9\n",
      "Bentuk dari mat2D:(3, 4)\n",
      "Ukuran dari mat2D:12\n"
     ]
    }
   ],
   "source": [
    "print(mat1D.shape)\n",
    "print(mat1D.size)\n",
    "print(f\"Bentuk dari mat2D:{mat2D.shape}\")\n",
    "print(f\"Ukuran dari mat2D:{mat2D.size}\")"
   ]
  },
  {
   "cell_type": "code",
   "execution_count": 62,
   "id": "238fee26-bbc4-4a29-aeba-d46afb9c5e86",
   "metadata": {},
   "outputs": [],
   "source": [
    "#Matriks Spesial\n",
    "mZero = np.zeros((4,4))\n",
    "mOne = np.ones ((3,3))\n",
    "mIdentity = np.eye((3))\n",
    "mFull = np.full((3,4),9)\n",
    "mRand1D = np.random.rand(5)\n",
    "mRand2D = np.random.rand(3,4)\n",
    "mRandInt1D = np.random.randint (1,100, size =8)\n",
    "mRandInt2D = np.random.randint (1,100, size =(3,3))"
   ]
  },
  {
   "cell_type": "code",
   "execution_count": 66,
   "id": "09b3aacb-608f-4afc-9757-68a1e182c4a1",
   "metadata": {},
   "outputs": [
    {
     "name": "stdout",
     "output_type": "stream",
     "text": [
      "mZero :\n",
      "[[0. 0. 0. 0.]\n",
      " [0. 0. 0. 0.]\n",
      " [0. 0. 0. 0.]\n",
      " [0. 0. 0. 0.]]\n",
      "mOne :\n",
      "[[1. 1. 1.]\n",
      " [1. 1. 1.]\n",
      " [1. 1. 1.]]\n",
      "mIdentity :\n",
      "[[1. 0. 0.]\n",
      " [0. 1. 0.]\n",
      " [0. 0. 1.]]\n",
      "mFull :\n",
      "[[9 9 9 9]\n",
      " [9 9 9 9]\n",
      " [9 9 9 9]]\n",
      "mRand1D :\n",
      "[0.30107663 0.25478979 0.86465914 0.41845885 0.18799215]\n",
      "mRand2D :\n",
      "[[0.29859419 0.5061407  0.33572679 0.72211125]\n",
      " [0.97622944 0.25214267 0.07098841 0.3173174 ]\n",
      " [0.18983048 0.67901809 0.3395565  0.05617698]]\n",
      "mRandInt1D : \n",
      "[41 62 67 98 40 35 41 22]\n",
      "mRandInt2D : \n",
      "[[42 99 14]\n",
      " [13  6 87]\n",
      " [63 13 75]]\n"
     ]
    }
   ],
   "source": [
    "print(f\"mZero :\\n{mZero}\")\n",
    "print(f\"mOne :\\n{mOne}\")\n",
    "print(f\"mIdentity :\\n{mIdentity}\")\n",
    "print(f\"mFull :\\n{mFull}\")\n",
    "print(f\"mRand1D :\\n{mRand1D}\")\n",
    "print(f\"mRand2D :\\n{mRand2D}\")\n",
    "print(f\"mRandInt1D : \\n{mRandInt1D}\")\n",
    "print(f\"mRandInt2D : \\n{mRandInt2D}\")"
   ]
  },
  {
   "cell_type": "code",
   "execution_count": 68,
   "id": "2ebf56df-b633-4d76-a7d9-76b62a359d21",
   "metadata": {},
   "outputs": [
    {
     "name": "stdout",
     "output_type": "stream",
     "text": [
      "Hasil penjumlahan x dan y : [ 7  9 11 13 15]\n",
      "Hasil Perkalian x dan y : 130\n"
     ]
    }
   ],
   "source": [
    "#operasi Aritmatika\n",
    "x = np.array([1,2,3,4,5])\n",
    "y = np.array([6,7,8,9,10])\n",
    "\n",
    "r1 = np.add(x,y)\n",
    "r2 = np.dot(x,y)\n",
    "\n",
    "print(f\"Hasil penjumlahan x dan y : {r1}\")\n",
    "print(f\"Hasil Perkalian x dan y : {r2}\")"
   ]
  },
  {
   "cell_type": "code",
   "execution_count": 82,
   "id": "881b5fa9-626a-42dd-af51-90dd156c341e",
   "metadata": {},
   "outputs": [
    {
     "name": "stdout",
     "output_type": "stream",
     "text": [
      "Niai Pemrograman : [100  90  90  50  80  60  50  85]\n",
      "Nilai yang paling rendah : 50\n",
      "Nilai yang paling tinggi : 100\n",
      "Nilai yang paling rata-rata : 75.625\n",
      "Nilai Total keseluruhan : 605\n",
      "Nilai Standar Deviasi : 18.275239396516806\n",
      "Nilai yang paling tengah : 82.5\n"
     ]
    }
   ],
   "source": [
    "#Fungsi dasar statistik\n",
    "nilaiPrograming = np.array([100,90,90,50,80,60,50,85])\n",
    "print(f\"Niai Pemrograman : {nilaiPrograming}\")\n",
    "print(f\"Nilai yang paling rendah : {np.min(nilaiPrograming)}\")\n",
    "print(f\"Nilai yang paling tinggi : {np.max(nilaiPrograming)}\")\n",
    "print(f\"Nilai yang paling rata-rata : {np.mean(nilaiPrograming)}\")\n",
    "print(f\"Nilai Total keseluruhan : {np.sum(nilaiPrograming)}\")\n",
    "print(f\"Nilai Standar Deviasi : {np.std(nilaiPrograming)}\")\n",
    "print(f\"Nilai yang paling tengah : {np.median(nilaiPrograming)}\")"
   ]
  },
  {
   "cell_type": "code",
   "execution_count": 94,
   "id": "b784e037-73aa-4d2d-ad72-016a69caf704",
   "metadata": {},
   "outputs": [
    {
     "name": "stdout",
     "output_type": "stream",
     "text": [
      "matX adalah:\n",
      "[[ 1  2  3  4  5]\n",
      " [ 6  7  8  9 10]]\n",
      "matX diubah bentuk:\n",
      "[[ 1  2  3  4  5  6  7  8  9 10]]\n",
      "matX diubah menjadi bentuk flat:[ 1  2  3  4  5  6  7  8  9 10]\n"
     ]
    }
   ],
   "source": [
    "#Operasi bentuk\n",
    "matX = np.array([[1,2,3,4,5],[6,7,8,9,10]])\n",
    "print(f\"matX adalah:\\n{matX}\")\n",
    "print(f\"matX diubah bentuk:\\n{matX.reshape(1,10)}\")\n",
    "print(f\"matX diubah menjadi bentuk flat:{matX.flatten()}\")"
   ]
  },
  {
   "cell_type": "code",
   "execution_count": 108,
   "id": "004cfc55-8127-4de9-9654-cc0be4cec93a",
   "metadata": {},
   "outputs": [
    {
     "name": "stdout",
     "output_type": "stream",
     "text": [
      "Daftar nilai yang lulus:[100  90  90  80  60  85]\n",
      "Jumlah yang lulus:6\n"
     ]
    }
   ],
   "source": [
    "#filtering\n",
    "lulus = nilaiPrograming[nilaiPrograming > 50]\n",
    "\n",
    "print(f\"Daftar nilai yang lulus:{lulus}\")\n",
    "print(f\"Jumlah yang lulus:{lulus.size}\")"
   ]
  },
  {
   "cell_type": "markdown",
   "id": "bc9d5fe6-60f3-4802-b2d2-de101a8f889a",
   "metadata": {},
   "source": [
    "<b1>Contoh Kasus Data Set</b1>\n",
    "buatlah data set sebanyak 10.000 untuk proses klasifikasi nasabah kartu kredit\n",
    "<ol>\n",
    "    <li>Usia : 17 - 60</li>\n",
    "    <li>Gneder : L/P</li>\n",
    "    <li>Gaji : 1jt-3jt,3jt-5jt,5jt-10jt</li>\n",
    "    <li>Jumlah Anak : 0 - 6</li>\n",
    "</ol>"
   ]
  },
  {
   "cell_type": "code",
   "execution_count": 163,
   "id": "ab5809d4-5cee-4ad3-9eff-85466adf01dd",
   "metadata": {},
   "outputs": [
    {
     "name": "stdout",
     "output_type": "stream",
     "text": [
      "<class 'pandas.core.frame.DataFrame'>\n",
      "RangeIndex: 10000 entries, 0 to 9999\n",
      "Data columns (total 4 columns):\n",
      " #   Column       Non-Null Count  Dtype \n",
      "---  ------       --------------  ----- \n",
      " 0   Usia         10000 non-null  int32 \n",
      " 1   Gender       10000 non-null  object\n",
      " 2   Gaji         10000 non-null  object\n",
      " 3   Jumalh-Anak  10000 non-null  int32 \n",
      "dtypes: int32(2), object(2)\n",
      "memory usage: 234.5+ KB\n",
      "None\n",
      "   Usia Gender    Gaji  Jumalh-Anak\n",
      "0    43      P   1-3jt            2\n",
      "1    17      L   1-3jt            3\n",
      "2    42      P   1-3jt            1\n",
      "3    25      P   3-5jt            2\n",
      "4    29      P  5-10jt            1\n",
      "(10000, 4)\n",
      "40000\n",
      "Usia termuda : 17\n",
      "Usia Tertua : 60\n",
      "Jumlah Calon Nasabah Pria : 4917.0\n",
      "Jumlah Calon Nasabah Pria : 4917\n",
      "Jumlah Calon Nasabah Peremuan : 5083.0\n",
      "Jumlah Calon Nasabah perempuan : 5083\n"
     ]
    }
   ],
   "source": [
    "import numpy as np\n",
    "import pandas as pd\n",
    "\n",
    "n_data = 10000\n",
    "usia = np.random.randint(17,61,size=n_data)\n",
    "gender = np.random.choice(['L','P'],size=n_data)\n",
    "gaji = np.random.choice(['1-3jt','3-5jt','5-10jt'],size=n_data)\n",
    "anak = np.random.randint(0,7,size=n_data)\n",
    "\n",
    "df = pd.DataFrame({\n",
    "    'Usia' : usia,\n",
    "    'Gender': gender,\n",
    "    'Gaji' : gaji,\n",
    "    'Jumalh-Anak' : anak\n",
    "})\n",
    "\n",
    "df.to_csv('data_calon_nasabah.csv')\n",
    "\n",
    "print(df.info())\n",
    "print(df.head())\n",
    "print(df.shape)\n",
    "print(df.size)\n",
    "#Tampilkan calon nasbah yang palig mudah\n",
    "print(f\"Usia termuda : {df['Usia'].min()}\")\n",
    "#Tampilkan Usia calon rata-rata yang paling tua\n",
    "print(f\"Usia Tertua : {df['Usia'].max()}\")\n",
    "#Tampilkan Gaji rata-rata\n",
    "\n",
    "#Tampilkan berapa Jumlah Laki-Laki\n",
    "Jumlahlaki = df[df['Gender']=='L']\n",
    "print(f\"Jumlah Calon Nasabah Pria : {Jumlahlaki.size/4}\")\n",
    "print(f\"Jumlah Calon Nasabah Pria : {Jumlahlaki['Gender'].size}\")\n",
    "#Tampilkan berapa Jumlah Perempuan\n",
    "Jumlahperempuan = df[df['Gender']=='P']\n",
    "print(f\"Jumlah Calon Nasabah Peremuan : {Jumlahperempuan.size/4}\")\n",
    "print(f\"Jumlah Calon Nasabah perempuan : {Jumlahperempuan['Gender'].size}\")"
   ]
  },
  {
   "cell_type": "code",
   "execution_count": null,
   "id": "cebe3057-5014-4dc9-bd49-35662e8eaf2f",
   "metadata": {},
   "outputs": [],
   "source": []
  }
 ],
 "metadata": {
  "kernelspec": {
   "display_name": "Python [conda env:base] *",
   "language": "python",
   "name": "conda-base-py"
  },
  "language_info": {
   "codemirror_mode": {
    "name": "ipython",
    "version": 3
   },
   "file_extension": ".py",
   "mimetype": "text/x-python",
   "name": "python",
   "nbconvert_exporter": "python",
   "pygments_lexer": "ipython3",
   "version": "3.12.7"
  }
 },
 "nbformat": 4,
 "nbformat_minor": 5
}
