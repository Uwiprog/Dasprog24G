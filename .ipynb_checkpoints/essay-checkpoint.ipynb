{
 "cells": [
  {
   "cell_type": "code",
   "execution_count": 54,
   "id": "f5e01a04-af1b-4bb6-a20a-58b3dfad4dc8",
   "metadata": {},
   "outputs": [
    {
     "name": "stdin",
     "output_type": "stream",
     "text": [
      "Masukan bilangan 18\n"
     ]
    },
    {
     "name": "stdout",
     "output_type": "stream",
     "text": [
      "bilangan special\n"
     ]
    }
   ],
   "source": [
    "bil = input(\"Masukan bilangan\") #\"72\"\n",
    "jumlah =0\n",
    "for x in bil:\n",
    "    jumlah+=int(x)\n",
    "\n",
    "angka = int(bil)\n",
    "if angka % jumlah ==0:\n",
    "    print(\"bilangan special\")\n",
    "else:\n",
    "    print(\"tidak special\")"
   ]
  },
  {
   "cell_type": "code",
   "execution_count": 74,
   "id": "e9566ce7-d9fb-4e34-86db-fbc33e9d247d",
   "metadata": {},
   "outputs": [
    {
     "name": "stdin",
     "output_type": "stream",
     "text": [
      "Masukan kalimat Apa Enak SekaLi\n"
     ]
    },
    {
     "name": "stdout",
     "output_type": "stream",
     "text": [
      "4p4 3n4k 53k47i\n"
     ]
    }
   ],
   "source": [
    "kalimat = input(\"Masukan kalimat\")\n",
    "kalimat =kalimat.replace(\"A\",\"4\")\n",
    "kalimat=kalimat.replace(\"a\",\"4\")\n",
    "kalimat=kalimat.replace(\"e\",\"3\")\n",
    "kalimat=kalimat.replace(\"E\",\"3\")\n",
    "kalimat=kalimat.replace(\"L\",\"7\")\n",
    "kalimat=kalimat.replace(\"S\",\"5\")\n",
    "print(kalimat)"
   ]
  },
  {
   "cell_type": "code",
   "execution_count": 80,
   "id": "2f5c67a1-85d0-4479-806d-c498d2add331",
   "metadata": {},
   "outputs": [
    {
     "name": "stdin",
     "output_type": "stream",
     "text": [
      "Masukan kalimat Apa Enak SekaLi\n"
     ]
    },
    {
     "name": "stdout",
     "output_type": "stream",
     "text": [
      "4p4 3n4k 53k47i\n"
     ]
    }
   ],
   "source": [
    "kalimat = input(\"Masukan kalimat\")\n",
    "kalimatt=\"\"\n",
    "for x in kalimat:\n",
    "    if x == \"A\" or x==\"a\":\n",
    "        x =\"4\"\n",
    "    if x == \"E\" or x==\"e\":\n",
    "        x =\"3\"\n",
    "    if x == \"L\":\n",
    "        x =\"7\"\n",
    "    if x == \"S\" :\n",
    "        x =\"5\"\n",
    "    kalimatt += x\n",
    "print(kalimatt)"
   ]
  },
  {
   "cell_type": "code",
   "execution_count": null,
   "id": "ad5ad980-f42c-4bf9-b08f-90b7f11e7a02",
   "metadata": {},
   "outputs": [],
   "source": []
  }
 ],
 "metadata": {
  "kernelspec": {
   "display_name": "Python [conda env:base] *",
   "language": "python",
   "name": "conda-base-py"
  },
  "language_info": {
   "codemirror_mode": {
    "name": "ipython",
    "version": 3
   },
   "file_extension": ".py",
   "mimetype": "text/x-python",
   "name": "python",
   "nbconvert_exporter": "python",
   "pygments_lexer": "ipython3",
   "version": "3.12.7"
  }
 },
 "nbformat": 4,
 "nbformat_minor": 5
}
