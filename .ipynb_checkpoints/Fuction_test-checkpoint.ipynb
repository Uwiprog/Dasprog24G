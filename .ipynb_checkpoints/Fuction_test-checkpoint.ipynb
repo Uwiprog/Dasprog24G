{
 "cells": [
  {
   "cell_type": "code",
   "execution_count": 5,
   "id": "d76ea197-33d1-4ac2-b770-14865d217890",
   "metadata": {},
   "outputs": [
    {
     "name": "stdout",
     "output_type": "stream",
     "text": [
      "Ini adalah output perintah langsung menggunakan print() atau HARDCODE\n",
      "1. Ubah kata 'AKU CINTA KAMU'\n",
      "UKA ATNIC UMAK\n",
      "2. Urutkan kata 'HARI INI SEDANG BELAJAR PYTHON'\n",
      "PYTHON HARI BELAJAR SEDANG INI\n",
      "3. ganti huruf fokal kecil dari kata Aku Cinta Kamu\n",
      "Ak|_| C1nt4 K4m|_|\n",
      "4. ganti huruf vokal besar dari kataAku Cinta Kamu\n",
      "4ku Cinta Kamu\n"
     ]
    }
   ],
   "source": [
    "def Reverse_kata(kalimat):\n",
    "    kata_list = kalimat.split()\n",
    "    return ' '.join([kata [::-1] for kata in kata_list])\n",
    "\n",
    "def urut_kata(kalimat, urutan):\n",
    "    kata_list = kalimat.split()\n",
    "    return ' '.join([kata_list[i - 1] for i in urutan])\n",
    "\n",
    "def ganti_vokal(kalimat, opsi):\n",
    "    vokalkecil = {'a':'4','i':'1','u':'|_|','e':'3','o':'0'}\n",
    "    vokalbesar = {'A':'4','I':'1','U':'|_|','E':'3','O':'0'}\n",
    "    hasil = ''\n",
    "    for huruf in kalimat:\n",
    "        if opsi == 1 and huruf in vokalkecil:\n",
    "            hasil += vokalkecil[huruf]\n",
    "        elif opsi == 2 and huruf in vokalbesar:\n",
    "            hasil += vokalbesar[huruf]\n",
    "        else:\n",
    "            hasil += huruf\n",
    "    return hasil\n",
    "\n",
    "print(\"Ini adalah output perintah langsung menggunakan print() atau HARDCODE\")\n",
    "print(\"1. Ubah kata 'AKU CINTA KAMU'\")\n",
    "print(Reverse_kata(\"AKU CINTA KAMU\"))\n",
    "print(\"2. Urutkan kata 'HARI INI SEDANG BELAJAR PYTHON'\")\n",
    "print(urut_kata(\"HARI INI SEDANG BELAJAR PYTHON\", [5,1,4,3,2]))\n",
    "print(\"3. ganti huruf fokal kecil dari kata \"\"Aku Cinta Kamu\")\n",
    "print(ganti_vokal (\"Aku Cinta Kamu\", 1))\n",
    "print(\"4. ganti huruf vokal besar dari kata\" \"Aku Cinta Kamu\")\n",
    "print(ganti_vokal (\"Aku Cinta Kamu\", 2))"
   ]
  }
 ],
 "metadata": {
  "kernelspec": {
   "display_name": "Python [conda env:base] *",
   "language": "python",
   "name": "conda-base-py"
  },
  "language_info": {
   "codemirror_mode": {
    "name": "ipython",
    "version": 3
   },
   "file_extension": ".py",
   "mimetype": "text/x-python",
   "name": "python",
   "nbconvert_exporter": "python",
   "pygments_lexer": "ipython3",
   "version": "3.12.7"
  }
 },
 "nbformat": 4,
 "nbformat_minor": 5
}
