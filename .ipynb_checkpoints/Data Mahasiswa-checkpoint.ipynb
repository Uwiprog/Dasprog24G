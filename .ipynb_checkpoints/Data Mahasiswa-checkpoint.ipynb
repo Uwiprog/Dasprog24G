{
 "cells": [
  {
   "cell_type": "code",
   "execution_count": 2,
   "id": "1a44de80-fd62-469b-b79f-94214ea3cd16",
   "metadata": {},
   "outputs": [
    {
     "name": "stdout",
     "output_type": "stream",
     "text": [
      "Menu Data Mahasiswa.\n",
      "1. Tambah data Mahasiswa.\n",
      "2. Tampilkan data Mahasiswa.\n",
      "3. keluar.\n"
     ]
    },
    {
     "name": "stdin",
     "output_type": "stream",
     "text": [
      "Pilih anga untuk memilih menu(1/2/3): 1\n"
     ]
    },
    {
     "name": "stdout",
     "output_type": "stream",
     "text": [
      "\n",
      " Tambah Data Mahasiswa \n"
     ]
    },
    {
     "name": "stdin",
     "output_type": "stream",
     "text": [
      "Masukkan NIM (11 digit angka):  202400861\n"
     ]
    },
    {
     "name": "stdout",
     "output_type": "stream",
     "text": [
      "Error: NIM harus tepat 11 digit.\n",
      "Contoh yang benar: 20230274291\n",
      "\n"
     ]
    },
    {
     "name": "stdin",
     "output_type": "stream",
     "text": [
      "Masukkan NIM (11 digit angka):  20240040174\n",
      "Masukkan Nama (minimal 6 karakter):  Dwi\n"
     ]
    },
    {
     "name": "stdout",
     "output_type": "stream",
     "text": [
      "Error: Nama harus minimal 6 karakter.\n"
     ]
    },
    {
     "name": "stdin",
     "output_type": "stream",
     "text": [
      "Masukkan Nama (minimal 6 karakter):  Haryanto\n",
      "Masukkan Alamat (minimal 10 karakter):  sukaraja\n"
     ]
    },
    {
     "name": "stdout",
     "output_type": "stream",
     "text": [
      "Error: Alamat harus minimal 10 karakter.\n"
     ]
    },
    {
     "name": "stdin",
     "output_type": "stream",
     "text": [
      "Masukkan Alamat (minimal 10 karakter):  Jl.Elang-v-Bekasi-JawaBarat\n",
      "Masukkan Kelas (TI23 atau TI24):  TI25\n"
     ]
    },
    {
     "name": "stdout",
     "output_type": "stream",
     "text": [
      "Error: Kelas hanya boleh TI23 atau TI24.\n"
     ]
    },
    {
     "name": "stdin",
     "output_type": "stream",
     "text": [
      "Masukkan Kelas (TI23 atau TI24):  TI24G\n"
     ]
    },
    {
     "name": "stdout",
     "output_type": "stream",
     "text": [
      "Error: Kelas hanya boleh TI23 atau TI24.\n"
     ]
    },
    {
     "name": "stdin",
     "output_type": "stream",
     "text": [
      "Masukkan Kelas (TI23 atau TI24):  TI24\n"
     ]
    },
    {
     "name": "stdout",
     "output_type": "stream",
     "text": [
      "Data berhasil ditambahkan!\n",
      "\n",
      "Menu Data Mahasiswa.\n",
      "1. Tambah data Mahasiswa.\n",
      "2. Tampilkan data Mahasiswa.\n",
      "3. keluar.\n"
     ]
    },
    {
     "name": "stdin",
     "output_type": "stream",
     "text": [
      "Pilih anga untuk memilih menu(1/2/3): 2\n"
     ]
    },
    {
     "name": "stdout",
     "output_type": "stream",
     "text": [
      "\n",
      "Data Mahasiswa:\n",
      "==================================================\n",
      "1. NIM   : 20240040174\n",
      "   Nama  : Haryanto\n",
      "   Alamat: Jl.Elang-v-Bekasi-JawaBarat\n",
      "   Kelas : TI24\n",
      "--------------------------------------------------\n",
      "Menu Data Mahasiswa.\n",
      "1. Tambah data Mahasiswa.\n",
      "2. Tampilkan data Mahasiswa.\n",
      "3. keluar.\n"
     ]
    },
    {
     "name": "stdin",
     "output_type": "stream",
     "text": [
      "Pilih anga untuk memilih menu(1/2/3): 1\n"
     ]
    },
    {
     "name": "stdout",
     "output_type": "stream",
     "text": [
      "\n",
      " Tambah Data Mahasiswa \n"
     ]
    },
    {
     "name": "stdin",
     "output_type": "stream",
     "text": [
      "Masukkan NIM (11 digit angka):  2023039873\n"
     ]
    },
    {
     "name": "stdout",
     "output_type": "stream",
     "text": [
      "Error: NIM harus tepat 11 digit.\n",
      "Contoh yang benar: 20230274291\n",
      "\n"
     ]
    },
    {
     "name": "stdin",
     "output_type": "stream",
     "text": [
      "Masukkan NIM (11 digit angka):  202303987\n"
     ]
    },
    {
     "name": "stdout",
     "output_type": "stream",
     "text": [
      "Error: NIM harus tepat 11 digit.\n",
      "Contoh yang benar: 20230274291\n",
      "\n"
     ]
    },
    {
     "name": "stdin",
     "output_type": "stream",
     "text": [
      "Masukkan NIM (11 digit angka):  20230398703\n",
      "Masukkan Nama (minimal 6 karakter):  Nurmandi\n",
      "Masukkan Alamat (minimal 10 karakter):  Jl.Garuda-3-Baros-JawaBarat\n",
      "Masukkan Kelas (TI23 atau TI24):  TI23\n"
     ]
    },
    {
     "name": "stdout",
     "output_type": "stream",
     "text": [
      "Data berhasil ditambahkan!\n",
      "\n",
      "Menu Data Mahasiswa.\n",
      "1. Tambah data Mahasiswa.\n",
      "2. Tampilkan data Mahasiswa.\n",
      "3. keluar.\n"
     ]
    },
    {
     "name": "stdin",
     "output_type": "stream",
     "text": [
      "Pilih anga untuk memilih menu(1/2/3): 2\n"
     ]
    },
    {
     "name": "stdout",
     "output_type": "stream",
     "text": [
      "\n",
      "Data Mahasiswa:\n",
      "==================================================\n",
      "1. NIM   : 20240040174\n",
      "   Nama  : Haryanto\n",
      "   Alamat: Jl.Elang-v-Bekasi-JawaBarat\n",
      "   Kelas : TI24\n",
      "--------------------------------------------------\n",
      "2. NIM   : 20230398703\n",
      "   Nama  : Nurmandi\n",
      "   Alamat: Jl.Garuda-3-Baros-JawaBarat\n",
      "   Kelas : TI23\n",
      "--------------------------------------------------\n",
      "Menu Data Mahasiswa.\n",
      "1. Tambah data Mahasiswa.\n",
      "2. Tampilkan data Mahasiswa.\n",
      "3. keluar.\n"
     ]
    },
    {
     "name": "stdin",
     "output_type": "stream",
     "text": [
      "Pilih anga untuk memilih menu(1/2/3): 3\n"
     ]
    },
    {
     "name": "stdout",
     "output_type": "stream",
     "text": [
      "Terimakasih anda sudah keluar!\n"
     ]
    }
   ],
   "source": [
    "DataMahasiswa = []\n",
    "def main():\n",
    "    while True:\n",
    "        print(\"Menu Data Mahasiswa.\")\n",
    "        print(\"1. Tambah data Mahasiswa.\")\n",
    "        print(\"2. Tampilkan data Mahasiswa.\")\n",
    "        print(\"3. keluar.\")\n",
    "        try:\n",
    "            pilihan = input(\"Pilih anga untuk memilih menu(1/2/3):\")\n",
    "            if pilihan == \"1\":\n",
    "                TambahDataMahasiswa(DataMahasiswa)\n",
    "            elif pilihan == \"2\":\n",
    "                TampilkanDataMahasiswa(DataMahasiswa)\n",
    "            elif pilihan == \"3\":\n",
    "                print(\"Terimakasih anda sudah keluar!\")\n",
    "                break\n",
    "            else:\n",
    "                print(\"Error: Pilihan harus antara 1/2/3.\")\n",
    "        except Exception as e:\n",
    "            print(f\"Terjadi kesalahan: {str(e)}\")\n",
    "            print(\"Silahkan coba lagi\")\n",
    "\n",
    "def TambahDataMahasiswa(DataMahasiswa):\n",
    "    print(\"\\n Tambah Data Mahasiswa \")\n",
    "    while True:\n",
    "        try:\n",
    "            NIM = input(\"Masukkan NIM (11 digit angka): \")\n",
    "            if not NIM.isdigit():\n",
    "                raise ValueError(\"NIM harus berupa angka.\")\n",
    "            if len(NIM) != 11:\n",
    "                raise ValueError(\"NIM harus tepat 11 digit.\")\n",
    "            break\n",
    "        except ValueError as ve:\n",
    "            print(f\"Error: {ve}\")\n",
    "            print(\"Contoh yang benar: 20230274291\\n\")\n",
    "    while True:\n",
    "        try:\n",
    "            nama = input(\"Masukkan Nama (minimal 6 karakter): \")\n",
    "            if len(nama) < 6:\n",
    "                raise ValueError(\"Nama harus minimal 6 karakter.\")\n",
    "            break\n",
    "        except ValueError as ve:\n",
    "            print(f\"Error: {ve}\")\n",
    "    while True:\n",
    "        try:\n",
    "            alamat = input(\"Masukkan Alamat (minimal 10 karakter): \")\n",
    "            if len(alamat) < 10:\n",
    "                raise ValueError(\"Alamat harus minimal 10 karakter.\")\n",
    "            break\n",
    "        except ValueError as ve:\n",
    "            print(f\"Error: {ve}\")\n",
    "    while True:\n",
    "        try:\n",
    "            kelas = input(\"Masukkan Kelas (TI23 atau TI24): \").upper()\n",
    "            if kelas not in [\"TI23\", \"TI24\"]:\n",
    "                raise ValueError(\"Kelas hanya boleh TI23 atau TI24.\")\n",
    "            break\n",
    "        except ValueError as ve:\n",
    "            print(f\"Error: {ve}\")\n",
    "\n",
    "    DataMahasiswa.append({\n",
    "        \"nim\": NIM,\n",
    "        \"nama\": nama,\n",
    "        \"alamat\": alamat,\n",
    "        \"kelas\": kelas\n",
    "    })\n",
    "    print(\"Data berhasil ditambahkan!\\n\")\n",
    "    \n",
    "def TampilkanDataMahasiswa(data):\n",
    "    if not data:\n",
    "        print(\"Belum ada data mahasiswa.\\n\")\n",
    "    else:\n",
    "        print(\"\\nData Mahasiswa:\")\n",
    "        print(\"=\"*50)\n",
    "        for i, mhs in enumerate(data, start=1):\n",
    "            print(f\"{i}. NIM   : {mhs['nim']}\")\n",
    "            print(f\"   Nama  : {mhs['nama']}\")\n",
    "            print(f\"   Alamat: {mhs['alamat']}\")\n",
    "            print(f\"   Kelas : {mhs['kelas']}\")\n",
    "            print(\"-\"*50)\n",
    "main()"
   ]
  },
  {
   "cell_type": "code",
   "execution_count": null,
   "id": "201cba35-19e3-4b5b-850e-267ec286569c",
   "metadata": {},
   "outputs": [],
   "source": []
  }
 ],
 "metadata": {
  "kernelspec": {
   "display_name": "Python [conda env:base] *",
   "language": "python",
   "name": "conda-base-py"
  },
  "language_info": {
   "codemirror_mode": {
    "name": "ipython",
    "version": 3
   },
   "file_extension": ".py",
   "mimetype": "text/x-python",
   "name": "python",
   "nbconvert_exporter": "python",
   "pygments_lexer": "ipython3",
   "version": "3.12.7"
  }
 },
 "nbformat": 4,
 "nbformat_minor": 5
}
