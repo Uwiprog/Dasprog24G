{
 "cells": [
  {
   "cell_type": "code",
   "execution_count": 11,
   "id": "6debb275-c919-4e80-8a7a-bd60caf5fa93",
   "metadata": {},
   "outputs": [
    {
     "data": {
      "text/html": [
       "<div>\n",
       "<style scoped>\n",
       "    .dataframe tbody tr th:only-of-type {\n",
       "        vertical-align: middle;\n",
       "    }\n",
       "\n",
       "    .dataframe tbody tr th {\n",
       "        vertical-align: top;\n",
       "    }\n",
       "\n",
       "    .dataframe thead th {\n",
       "        text-align: right;\n",
       "    }\n",
       "</style>\n",
       "<table border=\"1\" class=\"dataframe\">\n",
       "  <thead>\n",
       "    <tr style=\"text-align: right;\">\n",
       "      <th></th>\n",
       "      <th>kode_provinsi</th>\n",
       "      <th>nama_provinsi</th>\n",
       "      <th>bps_kode_kabupaten_kota</th>\n",
       "      <th>bps_nama_kabupaten_kota</th>\n",
       "      <th>bps_kode_kecamatan</th>\n",
       "      <th>bps_nama_kecamatan</th>\n",
       "      <th>bps_kode_desa_kelurahan</th>\n",
       "      <th>bps_nama_desa_kelurahan</th>\n",
       "      <th>kemendagri_kode_kecamatan</th>\n",
       "      <th>kemendagri_nama_kecamatan</th>\n",
       "      <th>kemendagri_kode_desa_kelurahan</th>\n",
       "      <th>kemendagri_nama_desa_kelurahan</th>\n",
       "      <th>jumlah_guru_smp</th>\n",
       "      <th>satuan</th>\n",
       "      <th>tahun</th>\n",
       "      <th>id</th>\n",
       "    </tr>\n",
       "  </thead>\n",
       "  <tbody>\n",
       "    <tr>\n",
       "      <th>0</th>\n",
       "      <td>32</td>\n",
       "      <td>JAWA BARAT</td>\n",
       "      <td>3201</td>\n",
       "      <td>KABUPATEN BOGOR</td>\n",
       "      <td>3201190</td>\n",
       "      <td>GUNUNG PUTRI</td>\n",
       "      <td>3201190006</td>\n",
       "      <td>WANAHERANG</td>\n",
       "      <td>32.01.02</td>\n",
       "      <td>GUNUNG PUTRI</td>\n",
       "      <td>32.01.02.2001</td>\n",
       "      <td>WANAHERANG</td>\n",
       "      <td>162.0</td>\n",
       "      <td>ORANG</td>\n",
       "      <td>2019</td>\n",
       "      <td>1</td>\n",
       "    </tr>\n",
       "    <tr>\n",
       "      <th>1</th>\n",
       "      <td>32</td>\n",
       "      <td>JAWA BARAT</td>\n",
       "      <td>3201</td>\n",
       "      <td>KABUPATEN BOGOR</td>\n",
       "      <td>3201190</td>\n",
       "      <td>GUNUNG PUTRI</td>\n",
       "      <td>3201190010</td>\n",
       "      <td>BOJONG KULUR</td>\n",
       "      <td>32.01.02</td>\n",
       "      <td>GUNUNG PUTRI</td>\n",
       "      <td>32.01.02.2002</td>\n",
       "      <td>BOJONG KULUR</td>\n",
       "      <td>81.0</td>\n",
       "      <td>ORANG</td>\n",
       "      <td>2019</td>\n",
       "      <td>2</td>\n",
       "    </tr>\n",
       "    <tr>\n",
       "      <th>2</th>\n",
       "      <td>32</td>\n",
       "      <td>JAWA BARAT</td>\n",
       "      <td>3201</td>\n",
       "      <td>KABUPATEN BOGOR</td>\n",
       "      <td>3201190</td>\n",
       "      <td>GUNUNG PUTRI</td>\n",
       "      <td>3201190009</td>\n",
       "      <td>CIANGSANA</td>\n",
       "      <td>32.01.02</td>\n",
       "      <td>GUNUNG PUTRI</td>\n",
       "      <td>32.01.02.2003</td>\n",
       "      <td>CIANGSANA</td>\n",
       "      <td>49.0</td>\n",
       "      <td>ORANG</td>\n",
       "      <td>2019</td>\n",
       "      <td>3</td>\n",
       "    </tr>\n",
       "    <tr>\n",
       "      <th>3</th>\n",
       "      <td>32</td>\n",
       "      <td>JAWA BARAT</td>\n",
       "      <td>3201</td>\n",
       "      <td>KABUPATEN BOGOR</td>\n",
       "      <td>3201190</td>\n",
       "      <td>GUNUNG PUTRI</td>\n",
       "      <td>3201190002</td>\n",
       "      <td>GUNUNG PUTRI</td>\n",
       "      <td>32.01.02</td>\n",
       "      <td>GUNUNG PUTRI</td>\n",
       "      <td>32.01.02.2004</td>\n",
       "      <td>GUNUNG PUTRI</td>\n",
       "      <td>12.0</td>\n",
       "      <td>ORANG</td>\n",
       "      <td>2019</td>\n",
       "      <td>4</td>\n",
       "    </tr>\n",
       "    <tr>\n",
       "      <th>4</th>\n",
       "      <td>32</td>\n",
       "      <td>JAWA BARAT</td>\n",
       "      <td>3201</td>\n",
       "      <td>KABUPATEN BOGOR</td>\n",
       "      <td>3201190</td>\n",
       "      <td>GUNUNG PUTRI</td>\n",
       "      <td>3201190004</td>\n",
       "      <td>BOJONG NANGKA</td>\n",
       "      <td>32.01.02</td>\n",
       "      <td>GUNUNG PUTRI</td>\n",
       "      <td>32.01.02.2005</td>\n",
       "      <td>BOJONG NANGKA</td>\n",
       "      <td>90.0</td>\n",
       "      <td>ORANG</td>\n",
       "      <td>2019</td>\n",
       "      <td>5</td>\n",
       "    </tr>\n",
       "  </tbody>\n",
       "</table>\n",
       "</div>"
      ],
      "text/plain": [
       "   kode_provinsi nama_provinsi  bps_kode_kabupaten_kota  \\\n",
       "0             32    JAWA BARAT                     3201   \n",
       "1             32    JAWA BARAT                     3201   \n",
       "2             32    JAWA BARAT                     3201   \n",
       "3             32    JAWA BARAT                     3201   \n",
       "4             32    JAWA BARAT                     3201   \n",
       "\n",
       "  bps_nama_kabupaten_kota  bps_kode_kecamatan bps_nama_kecamatan  \\\n",
       "0         KABUPATEN BOGOR             3201190       GUNUNG PUTRI   \n",
       "1         KABUPATEN BOGOR             3201190       GUNUNG PUTRI   \n",
       "2         KABUPATEN BOGOR             3201190       GUNUNG PUTRI   \n",
       "3         KABUPATEN BOGOR             3201190       GUNUNG PUTRI   \n",
       "4         KABUPATEN BOGOR             3201190       GUNUNG PUTRI   \n",
       "\n",
       "   bps_kode_desa_kelurahan bps_nama_desa_kelurahan kemendagri_kode_kecamatan  \\\n",
       "0               3201190006              WANAHERANG                  32.01.02   \n",
       "1               3201190010            BOJONG KULUR                  32.01.02   \n",
       "2               3201190009               CIANGSANA                  32.01.02   \n",
       "3               3201190002            GUNUNG PUTRI                  32.01.02   \n",
       "4               3201190004           BOJONG NANGKA                  32.01.02   \n",
       "\n",
       "  kemendagri_nama_kecamatan kemendagri_kode_desa_kelurahan  \\\n",
       "0              GUNUNG PUTRI                  32.01.02.2001   \n",
       "1              GUNUNG PUTRI                  32.01.02.2002   \n",
       "2              GUNUNG PUTRI                  32.01.02.2003   \n",
       "3              GUNUNG PUTRI                  32.01.02.2004   \n",
       "4              GUNUNG PUTRI                  32.01.02.2005   \n",
       "\n",
       "  kemendagri_nama_desa_kelurahan  jumlah_guru_smp satuan  tahun  id  \n",
       "0                     WANAHERANG            162.0  ORANG   2019   1  \n",
       "1                   BOJONG KULUR             81.0  ORANG   2019   2  \n",
       "2                      CIANGSANA             49.0  ORANG   2019   3  \n",
       "3                   GUNUNG PUTRI             12.0  ORANG   2019   4  \n",
       "4                  BOJONG NANGKA             90.0  ORANG   2019   5  "
      ]
     },
     "execution_count": 11,
     "metadata": {},
     "output_type": "execute_result"
    }
   ],
   "source": [
    "import pandas as pd\n",
    "df = pd.read_csv('dpmdes-idm_jml_tng_ajar_sklh_mngh_prtm_mdrsh_tsanawiyah_smpmts__des_ke_data.csv')\n",
    "\n",
    "df.head()"
   ]
  },
  {
   "cell_type": "code",
   "execution_count": 20,
   "id": "3db8d19e-48f1-4e1f-9d3c-4974720b3e8f",
   "metadata": {},
   "outputs": [
    {
     "name": "stdout",
     "output_type": "stream",
     "text": [
      "Total seluruh guru SMP: 776570.61\n"
     ]
    }
   ],
   "source": [
    "total_guru_smp = df['jumlah_guru_smp'].sum()\n",
    "\n",
    "print(\"Total seluruh guru SMP:\", total_guru_smp)"
   ]
  },
  {
   "cell_type": "code",
   "execution_count": 21,
   "id": "db5f5abd-62ef-4934-80d1-f746f83e00a2",
   "metadata": {},
   "outputs": [
    {
     "name": "stdout",
     "output_type": "stream",
     "text": [
      "     bps_nama_desa_kelurahan  jumlah_guru_smp\n",
      "40                BABAJURANG          18410.6\n",
      "965                 CITALEUS          10015.0\n",
      "2084               MEKARSARI           5834.0\n",
      "2068               MEKARJAYA           5086.0\n",
      "220              BOJONG TUGU           5078.0\n",
      "3002                SUKAMAJU           4826.0\n",
      "2644             RANJI WETAN           4760.0\n",
      "445                  CIBEUSI           4285.0\n",
      "2200               PADAHURIP           4102.0\n",
      "2169               NEGLASARI           4071.0\n"
     ]
    }
   ],
   "source": [
    "grouped = df.groupby('bps_nama_desa_kelurahan')['jumlah_guru_smp'].sum().reset_index()\n",
    "\n",
    "grouped_sorted = grouped.sort_values(by='jumlah_guru_smp', ascending=False)\n",
    "\n",
    "print(grouped_sorted.head(10))\n"
   ]
  },
  {
   "cell_type": "code",
   "execution_count": 2,
   "id": "f1945386-6b07-4a4a-8ee4-6cb3f9ac53f5",
   "metadata": {},
   "outputs": [
    {
     "ename": "NameError",
     "evalue": "name 'top10' is not defined",
     "output_type": "error",
     "traceback": [
      "\u001b[1;31m---------------------------------------------------------------------------\u001b[0m",
      "\u001b[1;31mNameError\u001b[0m                                 Traceback (most recent call last)",
      "Cell \u001b[1;32mIn[2], line 3\u001b[0m\n\u001b[0;32m      1\u001b[0m \u001b[38;5;28;01mimport\u001b[39;00m \u001b[38;5;21;01mmatplotlib\u001b[39;00m\u001b[38;5;21;01m.\u001b[39;00m\u001b[38;5;21;01mpyplot\u001b[39;00m \u001b[38;5;28;01mas\u001b[39;00m \u001b[38;5;21;01mplt\u001b[39;00m\n\u001b[0;32m      2\u001b[0m plt\u001b[38;5;241m.\u001b[39mfigure(figsize\u001b[38;5;241m=\u001b[39m(\u001b[38;5;241m12\u001b[39m,\u001b[38;5;241m6\u001b[39m))\n\u001b[1;32m----> 3\u001b[0m plt\u001b[38;5;241m.\u001b[39mbar(top10[\u001b[38;5;124m'\u001b[39m\u001b[38;5;124mbps_nama_desa_kelurahan\u001b[39m\u001b[38;5;124m'\u001b[39m], top10[\u001b[38;5;124m'\u001b[39m\u001b[38;5;124mjumlah_guru_smp\u001b[39m\u001b[38;5;124m'\u001b[39m], color\u001b[38;5;241m=\u001b[39m\u001b[38;5;124m'\u001b[39m\u001b[38;5;124mskyblue\u001b[39m\u001b[38;5;124m'\u001b[39m)\n\u001b[0;32m      4\u001b[0m plt\u001b[38;5;241m.\u001b[39mtitle(\u001b[38;5;124m'\u001b[39m\u001b[38;5;124m10 Desa dengan Jumlah Guru SMP Terbanyak\u001b[39m\u001b[38;5;124m'\u001b[39m)\n\u001b[0;32m      5\u001b[0m plt\u001b[38;5;241m.\u001b[39mxlabel(\u001b[38;5;124m'\u001b[39m\u001b[38;5;124mDesa\u001b[39m\u001b[38;5;124m'\u001b[39m)\n",
      "\u001b[1;31mNameError\u001b[0m: name 'top10' is not defined"
     ]
    },
    {
     "data": {
      "text/plain": [
       "<Figure size 1200x600 with 0 Axes>"
      ]
     },
     "metadata": {},
     "output_type": "display_data"
    }
   ],
   "source": [
    "import matplotlib.pyplot as plt\n",
    "plt.figure(figsize=(12,6))\n",
    "plt.bar(top10['bps_nama_desa_kelurahan'], top10['jumlah_guru_smp'], color='skyblue')\n",
    "plt.title('10 Desa dengan Jumlah Guru SMP Terbanyak')\n",
    "plt.xlabel('Desa')\n",
    "plt.ylabel('jumlah Guru SMP')\n",
    "plt.xticks(rotation=45, ha='right')\n",
    "plt.tight_layout()\n",
    "\n",
    "# Tampilkan grafik\n",
    "plt.show()"
   ]
  }
 ],
 "metadata": {
  "kernelspec": {
   "display_name": "Python [conda env:base] *",
   "language": "python",
   "name": "conda-base-py"
  },
  "language_info": {
   "codemirror_mode": {
    "name": "ipython",
    "version": 3
   },
   "file_extension": ".py",
   "mimetype": "text/x-python",
   "name": "python",
   "nbconvert_exporter": "python",
   "pygments_lexer": "ipython3",
   "version": "3.12.7"
  }
 },
 "nbformat": 4,
 "nbformat_minor": 5
}
