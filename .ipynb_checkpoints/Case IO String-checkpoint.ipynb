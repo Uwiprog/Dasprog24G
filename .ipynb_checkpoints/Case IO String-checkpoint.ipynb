{
 "cells": [
  {
   "cell_type": "code",
   "execution_count": 1,
   "id": "efdf2dbd-2ab0-43b8-82f2-f8398e0a226c",
   "metadata": {},
   "outputs": [
    {
     "name": "stdin",
     "output_type": "stream",
     "text": [
      "Masukan Nama : M. Dwi Haryanto\n",
      "Masukan NIM : 202040040174\n",
      "Masukan Kelas : TI24G\n"
     ]
    },
    {
     "name": "stdout",
     "output_type": "stream",
     "text": [
      "Nama: M. Dwi Haryanto NIM: 202040040174 Kelas: TI24G\n"
     ]
    }
   ],
   "source": [
    "nama = input(\"Masukan Nama :\")\n",
    "nim = input (\"Masukan NIM :\")\n",
    "kelas = input(\"Masukan Kelas :\")\n",
    "print(f\"Nama: {nama} NIM: {nim} Kelas: {kelas}\")"
   ]
  },
  {
   "cell_type": "code",
   "execution_count": 19,
   "id": "ba05ca62-7890-478b-a414-ec0cb8a8d4dd",
   "metadata": {},
   "outputs": [
    {
     "name": "stdout",
     "output_type": "stream",
     "text": [
      "a. putra nusa\n",
      "b. NIVERSITAS NSA PTRA SKABMI\n",
      "c. SUKABUMI PUTRA NUSA UNIVERSITAS\n",
      "d. UNPS\n",
      "e. TAS SAPU BUMI\n"
     ]
    }
   ],
   "source": [
    "kalimat = \"UNIVERSITAS NUSA PUTRA SUKABUMI\"\n",
    "kata = kalimat.split(' ')\n",
    "print(\"a.\",kata[2].lower(),kata[1].lower())\n",
    "print(\"b.\",kalimat.replace(\"U\",\"\"))\n",
    "print(\"c.\",kata[3],kata[2],kata[1],kata[0])\n",
    "print(\"d.\",kata[0][0]+kata[1][0]+kata[2][0]+kata[3][0])\n",
    "print(\"e.\",kata[0][-3:], kata[1][-2:]+kata[2][:2], kata[3][-4:])"
   ]
  }
 ],
 "metadata": {
  "kernelspec": {
   "display_name": "Python [conda env:base] *",
   "language": "python",
   "name": "conda-base-py"
  },
  "language_info": {
   "codemirror_mode": {
    "name": "ipython",
    "version": 3
   },
   "file_extension": ".py",
   "mimetype": "text/x-python",
   "name": "python",
   "nbconvert_exporter": "python",
   "pygments_lexer": "ipython3",
   "version": "3.12.7"
  }
 },
 "nbformat": 4,
 "nbformat_minor": 5
}
