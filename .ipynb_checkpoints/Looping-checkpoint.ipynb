{
 "cells": [
  {
   "cell_type": "markdown",
   "id": "11f544f7-645d-4c93-addf-92740706ac91",
   "metadata": {},
   "source": [
    "<h1>LOOPING</h1>"
   ]
  },
  {
   "cell_type": "code",
   "execution_count": 42,
   "id": "53f3d1dc-482e-4d3d-9941-1aa594cfb308",
   "metadata": {},
   "outputs": [],
   "source": [
    "# Perulangan / Looping\n",
    "# For - while\n",
    "# Collection -> list, tuple, set, dictionary"
   ]
  },
  {
   "cell_type": "code",
   "execution_count": 46,
   "id": "bfd7c045-865e-4e41-a6c8-8a10a9f19071",
   "metadata": {},
   "outputs": [
    {
     "name": "stdout",
     "output_type": "stream",
     "text": [
      "Nama Buah: Apple\n",
      "Nama Buah: Banana\n",
      "Nama Buah: Watermelon\n",
      "Nama Buah: Pinapple\n",
      "Looping Selesai!\n"
     ]
    }
   ],
   "source": [
    "# for variabel in colection\n",
    "fruits = [\"Apple\",\"Banana\",\"Watermelon\",\"Pinapple\"]\n",
    "for fruit in fruits :\n",
    "    print(f\"Nama Buah: {fruit}\")\n",
    "print(\"Looping Selesai!\")"
   ]
  },
  {
   "cell_type": "code",
   "execution_count": 48,
   "id": "9661bbd1-f731-4bcc-8008-9c031d01e2b2",
   "metadata": {},
   "outputs": [
    {
     "name": "stdout",
     "output_type": "stream",
     "text": [
      "Rata-rata nilai pemrograman TI24G adalah: 74.16666666666667\n",
      "Jumlah Mahasiswa yang lulus ada: 3\n",
      "Jumlah Mahasiswa yang tidak lulus ada: 3\n"
     ]
    }
   ],
   "source": [
    "# Hitunglah rata-rata dari nilai pemrograman TI24G\n",
    "pythonScore = [90,100,85,60,60,50]\n",
    "\n",
    "#1. Menghitung jumlah total dari nilai - didalam looping\n",
    "#2. Membagi dengan jumlah data - diluar looping\n",
    "#3. Hitunglah jumlah mahasiswa yang lulus >=70\n",
    "#4. Hitunglah jumlah mahasiswa yang tidak lulus\n",
    "\n",
    "total = 0\n",
    "lulus = 0\n",
    "for score in pythonScore:\n",
    "    if score >=70:\n",
    "        lulus+=1\n",
    "    total = total + score\n",
    "rata2 = total / len(pythonScore)\n",
    "tidaklulus = len(pythonScore)-lulus\n",
    "print(f\"Rata-rata nilai pemrograman TI24G adalah: {rata2}\")\n",
    "print(f\"Jumlah Mahasiswa yang lulus ada: {lulus}\")\n",
    "print(f\"Jumlah Mahasiswa yang tidak lulus ada: {tidaklulus}\")"
   ]
  },
  {
   "cell_type": "code",
   "execution_count": 50,
   "id": "63ae78a0-4b2a-4e0d-94ec-331889ab9a20",
   "metadata": {},
   "outputs": [
    {
     "name": "stdin",
     "output_type": "stream",
     "text": [
      "Isikan kalimat:  Onee-san\n"
     ]
    },
    {
     "name": "stdout",
     "output_type": "stream",
     "text": [
      "Jumlah huruf vokal: 4\n"
     ]
    }
   ],
   "source": [
    "# Menghitung jumlah huruf vokal\n",
    "sentences = input(\"Isikan kalimat: \")\n",
    "vokal = ['a','i','u','e','o']\n",
    "total = 0\n",
    "\n",
    "for char in sentences:\n",
    "    if char.lower() in vokal:\n",
    "        total+=1\n",
    "print (f\"Jumlah huruf vokal: {total}\")"
   ]
  },
  {
   "cell_type": "code",
   "execution_count": 56,
   "id": "83d18435-f938-4a32-bb4a-bdc80b8432e1",
   "metadata": {},
   "outputs": [
    {
     "name": "stdout",
     "output_type": "stream",
     "text": [
      "[100, 400, 900, 1600, 2500]\n",
      "['Lulus', 'Lulus', 'Lulus', 'Tidak Lulus', 'Tidak Lulus', 'Tidak Lulus']\n"
     ]
    }
   ],
   "source": [
    "# List comprehention\n",
    "data = [10,20,30,40,50]\n",
    "square = [x**2 for x in data]\n",
    "print(square)\n",
    "\n",
    "pythonScore = [90,100,85,60,60,50]\n",
    "passExam = [\"Lulus\" if x >= 70 else \"Tidak Lulus\" for x in pythonScore]\n",
    "print(passExam)"
   ]
  },
  {
   "cell_type": "code",
   "execution_count": 60,
   "id": "d48bc94d-d82e-4440-bde9-b5e3c8ad1fde",
   "metadata": {},
   "outputs": [
    {
     "name": "stdout",
     "output_type": "stream",
     "text": [
      "0 : Jan\n",
      "1 : Feb\n",
      "2 : Mar\n",
      "3 : Apr\n",
      "4 : May\n",
      "5 : Jun\n",
      "6 : Jul\n",
      "7 : Aug\n",
      "8 : Sep\n",
      "9 : Oct\n",
      "10 : Nov\n",
      "11 : Des\n"
     ]
    }
   ],
   "source": [
    "# Enumerate\n",
    "months = [\"Jan\",\"Feb\",\"Mar\",\"Apr\",\"May\",\"Jun\",\"Jul\",\"Aug\",\"Sep\",\"Oct\",\"Nov\",\"Des\"]\n",
    "for index,month in enumerate(months):\n",
    "    print(f\"{index} : {month}\")"
   ]
  },
  {
   "cell_type": "code",
   "execution_count": 80,
   "id": "d49118a6-b48a-44a7-a056-27b48dd08a56",
   "metadata": {},
   "outputs": [
    {
     "name": "stdout",
     "output_type": "stream",
     "text": [
      "Jumlah Tempat duduk Laki-Laki : 4\n",
      "Jumlah tempat duduk perempuan : 2\n",
      "Jumlah Tempat duduk yang kosong: 1\n"
     ]
    }
   ],
   "source": [
    "# Menghitung berapa jumlah laki-laki dan perempuan pada tempat duduk dibioskop\n",
    "chairs = [\"L\",\"P\",\"L\",\"L\",\"P\",\"L\",\"\"]\n",
    "Laki = 0\n",
    "perempuan = 0\n",
    "BangkuKosong = 0\n",
    "\n",
    "for karakter in chairs:\n",
    "    if karakter ==\"L\":\n",
    "        Laki+=1\n",
    "    elif karakter ==\"P\":\n",
    "        perempuan+=1\n",
    "    else:\n",
    "        BangkuKosong+=1\n",
    "        \n",
    "print(f\"Jumlah Tempat duduk Laki-Laki : {Laki}\")\n",
    "print(f\"Jumlah tempat duduk perempuan : {perempuan}\")\n",
    "print(f\"Jumlah Tempat duduk yang kosong: {BangkuKosong}\")"
   ]
  },
  {
   "cell_type": "code",
   "execution_count": 104,
   "id": "e1d92e36-f721-4aac-b2de-167bda0f8e7c",
   "metadata": {},
   "outputs": [
    {
     "name": "stdout",
     "output_type": "stream",
     "text": [
      "Jumlah penonton Couple : 2\n"
     ]
    }
   ],
   "source": [
    "chairs = [\"L\",\"\",\"P\",\"L\",\"P\",\"\",\"P\",\"P\"]\n",
    "totalCouple = 0\n",
    "for index, chair in enumerate(chairs):\n",
    "    #print(f\"{index} : {chair}\")\n",
    "    if index < len(chairs)-1:\n",
    "        if chairs[index] !=\"\" and chairs[index+1] !=\"\":\n",
    "            if chairs[index] != chairs[index +1]:\n",
    "                totalCouple +=1\n",
    "print(f\"Jumlah penonton Couple : {totalCouple}\")"
   ]
  },
  {
   "cell_type": "code",
   "execution_count": 130,
   "id": "a4a5bd04-434e-41e9-a2c5-bf7303e7abb2",
   "metadata": {},
   "outputs": [
    {
     "name": "stdout",
     "output_type": "stream",
     "text": [
      "0 1 2 3 4 5 6 7 8 9 \n",
      "0 1 2 3 4 5 6 7 8 9 10 11 12 13 14 \n",
      "10  20  30  40  50  60  70  80  90  100  \n",
      "10 12 14 16 18 \n",
      "10 9 8 7 6 5 4 3 2 1 \n"
     ]
    }
   ],
   "source": [
    "#Range\n",
    "for i in range(10):\n",
    "    print(f\"{i} \", end = '')\n",
    "print()\n",
    "for j in range(15):\n",
    "    print(f\"{j} \", end = '')\n",
    "print()\n",
    "#10,20,30,40,50,...,100.\n",
    "for k in range(1,11):\n",
    "    print(k * 10, \" \", end = '')\n",
    "print()\n",
    "for m in range(10,20,2):\n",
    "    print(m, \"\", end ='')\n",
    "print()\n",
    "for n in range(10,0,-1):\n",
    "    print(n, \"\", end ='')\n",
    "print()"
   ]
  },
  {
   "cell_type": "code",
   "execution_count": 138,
   "id": "934b2751-ed30-49a2-a883-57753d818e35",
   "metadata": {},
   "outputs": [
    {
     "name": "stdin",
     "output_type": "stream",
     "text": [
      "Isikan Nilai : 5\n"
     ]
    },
    {
     "name": "stdout",
     "output_type": "stream",
     "text": [
      "5!= 120\n"
     ]
    }
   ],
   "source": [
    "# faktorial\n",
    "# 5 = 1*2*3*4*5 = 120\n",
    "\n",
    "number = int(input(\"Isikan Nilai :\"))\n",
    "total = 1\n",
    "for i in range(1,number+1):\n",
    "    total *= i\n",
    "print(f\"{number}!= {total}\")"
   ]
  },
  {
   "cell_type": "code",
   "execution_count": 152,
   "id": "a407197a-668c-46d5-9319-7316f7438236",
   "metadata": {},
   "outputs": [
    {
     "name": "stdin",
     "output_type": "stream",
     "text": [
      "Isikan Nilai : 7\n"
     ]
    },
    {
     "name": "stdout",
     "output_type": "stream",
     "text": [
      "7 adalah bil prima\n"
     ]
    }
   ],
   "source": [
    "#Cek bil Prima atau bukan prima\n",
    "number = int(input(\"Isikan Nilai :\"))\n",
    "faktor = 0\n",
    "for i in range(1,number+1):\n",
    "    if number % i == 0:\n",
    "        faktor+=1\n",
    "if faktor == 2:\n",
    "    print(f\"{number} adalah bil prima\")\n",
    "else:\n",
    "    print(f\"{number} bukan bil prima\")"
   ]
  },
  {
   "cell_type": "code",
   "execution_count": 156,
   "id": "97dd7e6f-1965-4088-b624-c77a1a45aea5",
   "metadata": {},
   "outputs": [
    {
     "name": "stdout",
     "output_type": "stream",
     "text": [
      "1 -2 3 -4 5 -6 7 -8 9 -10 "
     ]
    }
   ],
   "source": [
    "# 1, -2, 3, -4, 5, -6, 7, -8, 9 ,-10\n",
    "\n",
    "sign = 1\n",
    "for i in range (1,11):\n",
    "    result = sign * i\n",
    "    print(result, \"\", end='')\n",
    "    sign = sign * -1"
   ]
  }
 ],
 "metadata": {
  "kernelspec": {
   "display_name": "Python [conda env:base] *",
   "language": "python",
   "name": "conda-base-py"
  },
  "language_info": {
   "codemirror_mode": {
    "name": "ipython",
    "version": 3
   },
   "file_extension": ".py",
   "mimetype": "text/x-python",
   "name": "python",
   "nbconvert_exporter": "python",
   "pygments_lexer": "ipython3",
   "version": "3.12.7"
  }
 },
 "nbformat": 4,
 "nbformat_minor": 5
}
