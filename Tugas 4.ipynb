{
 "cells": [
  {
   "cell_type": "markdown",
   "id": "44256df6",
   "metadata": {},
   "source": [
    "<h1>ARITMATIKA</h1>"
   ]
  },
  {
   "cell_type": "code",
   "execution_count": 4,
   "id": "513dfbb3",
   "metadata": {},
   "outputs": [
    {
     "name": "stdout",
     "output_type": "stream",
     "text": [
      "Budi memiliki 12 Apel dan ingin membaginya dengan 4 teman nya secara merata. Berapa apel yang di terima setiap teman\n",
      "Apel : 12\n",
      "Teman : 4\n",
      "Apel dibagi Teman : 3.0\n",
      "Jika Budi mendapatkan tambahan 8 Apel, berapa total apel yang dimilikinya sekarang?\n",
      "Apel Budi : 20\n",
      "Sama rata : 5.0\n"
     ]
    }
   ],
   "source": [
    "ApelBudi = 12\n",
    "Teman = 4\n",
    "Samarata = ApelBudi/Temen\n",
    "\n",
    "print (\"Budi memiliki 12 Apel dan ingin membaginya dengan 4 teman nya secara merata. Berapa apel yang di terima setiap teman\")\n",
    "print (\"Apel :\",ApelBudi)\n",
    "print (\"Teman :\", Teman)\n",
    "print (\"Apel dibagi Teman :\", Samarata)\n",
    "\n",
    "print (\"Jika Budi mendapatkan tambahan 8 Apel, berapa total apel yang dimilikinya sekarang?\")\n",
    "ApelBudi += 8\n",
    "Samarata = ApelBudi / Teman\n",
    "print (\"Apel Budi :\", ApelBudi)\n",
    "print (\"Sama rata :\", Samarata)"
   ]
  },
  {
   "cell_type": "markdown",
   "id": "2bb3ff39",
   "metadata": {},
   "source": [
    "<h1>Perbandingan</h1>"
   ]
  },
  {
   "cell_type": "code",
   "execution_count": 9,
   "id": "fec607c6",
   "metadata": {},
   "outputs": [
    {
     "name": "stdout",
     "output_type": "stream",
     "text": [
      "Siti memiliki tinggi 160cm, sedangkan Andi 165cm. Gunakan operator perbandingan untuk menentukan siapa yang lebih tinggi?\n",
      "Andi\n"
     ]
    }
   ],
   "source": [
    "print (\"Siti memiliki tinggi 160cm, sedangkan Andi 165cm. Gunakan operator perbandingan untuk menentukan siapa yang lebih tinggi?\")\n",
    "\n",
    "Siti = 160\n",
    "Andi = 165\n",
    "\n",
    "if Andi > Siti:\n",
    "    print(\"Andi\")\n",
    "else:\n",
    "    print(\"Siti\")"
   ]
  },
  {
   "cell_type": "markdown",
   "id": "796af6eb",
   "metadata": {},
   "source": [
    "<h1>Operator Logika</h1>"
   ]
  },
  {
   "cell_type": "code",
   "execution_count": 23,
   "id": "191cf655",
   "metadata": {},
   "outputs": [
    {
     "name": "stdout",
     "output_type": "stream",
     "text": [
      "Budi hanya bisa bermain di luar jika cuaca cerah dan dia sudah menyelesaikan PR-nya.\n",
      "Bisa bermain\n"
     ]
    }
   ],
   "source": [
    "print (\"Budi hanya bisa bermain di luar jika cuaca cerah dan dia sudah menyelesaikan PR-nya.\")\n",
    "\n",
    "premis1 = \"Cuaca cerah\"\n",
    "premis2 = \"Pr selesai\"\n",
    "\n",
    "if (\"Bisa bermain\"):\n",
    "    premis1 and premis2\n",
    "    print (\"Bisa bermain\")\n",
    "else:\n",
    "    premis1 or premis2\n",
    "    print (\"tidak bisa bermain\")"
   ]
  },
  {
   "cell_type": "markdown",
   "id": "755107be-d425-4bf1-b408-889929336df7",
   "metadata": {},
   "source": [
    "<h1>Operator Bitwise</h1>"
   ]
  },
  {
   "cell_type": "code",
   "execution_count": 41,
   "id": "e2a93666-aa4c-4183-98fb-fc9918be2a53",
   "metadata": {},
   "outputs": [
    {
     "name": "stdin",
     "output_type": "stream",
     "text": [
      "Insert bilangan 1:  6\n",
      "Insert bilangan 2:  3\n"
     ]
    },
    {
     "name": "stdout",
     "output_type": "stream",
     "text": [
      "\n",
      "0b110\n",
      "0b11\n",
      "==========\n",
      "0b10 = 2\n",
      "\n",
      "0b110\n",
      "0b11\n",
      "==========\n",
      "0b111 = 7\n",
      "\n",
      "0b110\n",
      "0b11\n",
      "==========\n",
      "0b101 = 5\n",
      "\n"
     ]
    }
   ],
   "source": [
    "num1 = int(input(\"Insert bilangan 1: \"))\n",
    "num2 = int(input(\"Insert bilangan 2: \"))\n",
    "\n",
    "print()\n",
    "bAnd = num1&num2\n",
    "print(bin(num1))\n",
    "print(bin(num2))\n",
    "print(\"==========\")\n",
    "print(bin(bAnd),\"=\",bAnd)\n",
    "print()\n",
    "bOr = num1|num2\n",
    "print(bin(num1))\n",
    "print(bin(num2))\n",
    "print(\"==========\")\n",
    "print(bin(bOr),\"=\",bOr)\n",
    "print()\n",
    "bXor = num1^num2\n",
    "print(bin(num1))\n",
    "print(bin(num2))\n",
    "print(\"==========\")\n",
    "print(bin(bXor),\"=\",bXor)\n",
    "print()"
   ]
  },
  {
   "cell_type": "markdown",
   "id": "869f0ece-4581-4b02-9311-f0c0972533b0",
   "metadata": {},
   "source": [
    "<h1>Opeator penugasan</h1>"
   ]
  },
  {
   "cell_type": "code",
   "execution_count": 7,
   "id": "72673f4b-e8d9-4947-9336-3d8891dd269b",
   "metadata": {},
   "outputs": [
    {
     "name": "stdin",
     "output_type": "stream",
     "text": [
      "Masukan nominal pulsa anda : 50000\n"
     ]
    },
    {
     "name": "stdout",
     "output_type": "stream",
     "text": [
      "Saldo pulsa anda adalah:  50000\n",
      "Setelah diisi ulang : 70000\n",
      "Setelah dibelikan kouta, sisa pulsa anda adalah:  40000\n"
     ]
    }
   ],
   "source": [
    "pulsa = int(input(\"Masukan nominal pulsa anda :\"))\n",
    "print (\"Saldo pulsa anda adalah: \", pulsa)\n",
    "pulsa += 20000\n",
    "print (\"Setelah diisi ulang :\", pulsa)\n",
    "pulsa -= 30000\n",
    "print (\"Setelah dibelikan kouta, sisa pulsa anda adalah: \", pulsa)"
   ]
  },
  {
   "cell_type": "markdown",
   "id": "1aef6dc3-6bae-4fad-812c-6a9453d9fa69",
   "metadata": {},
   "source": [
    "<h1>Operator Keanggotaan</h1>"
   ]
  },
  {
   "cell_type": "code",
   "execution_count": 96,
   "id": "2dcba7b2-7be5-41e7-9497-ef1d34b71a35",
   "metadata": {},
   "outputs": [
    {
     "name": "stdin",
     "output_type": "stream",
     "text": [
      "cari peserta:  eko\n"
     ]
    },
    {
     "name": "stdout",
     "output_type": "stream",
     "text": [
      "Is there any eko in ['Andi', 'Budi', 'Citra', 'Dewi'] ?\n",
      "False\n",
      "\n",
      "Saya suka belajar Python\n",
      "adakah kata Python pada Saya suka belajar Python ?\n",
      "True\n"
     ]
    }
   ],
   "source": [
    "listpeserta = [\"Andi\",\"Budi\",\"Citra\",\"Dewi\"]\n",
    "findpeserta = input (\"cari peserta: \")\n",
    "print(\"Is there any\",findpeserta,\"in\",listpeserta,\"?\",)\n",
    "print (\"False\") if findpeserta not in listpeserta else (\"True\")  \n",
    "print()\n",
    "\n",
    "kalimat = \"Saya suka belajar Python\"\n",
    "cekkata = \"Python\"\n",
    "print (kalimat)\n",
    "print(\"adakah kata\", cekkata, \"pada\", kalimat,\"?\")\n",
    "print (cekkata in kalimat)"
   ]
  },
  {
   "cell_type": "markdown",
   "id": "761ca2ac-2486-408d-ad73-d21728152ea7",
   "metadata": {},
   "source": [
    "<h1>Operator Identitas</h1>"
   ]
  },
  {
   "cell_type": "code",
   "execution_count": 107,
   "id": "a2582e0b-4f66-47e2-b018-95c5c2b0f600",
   "metadata": {},
   "outputs": [
    {
     "name": "stdout",
     "output_type": "stream",
     "text": [
      "apakah nilai x dan nilai y sama True\n"
     ]
    }
   ],
   "source": [
    "x = 5\n",
    "y = 5\n",
    "\n",
    "print (\"apakah nilai x dan nilai y sama\", x is y)"
   ]
  },
  {
   "cell_type": "code",
   "execution_count": 119,
   "id": "df1cc4b5-5066-4412-a031-26241dc3392f",
   "metadata": {},
   "outputs": [
    {
     "name": "stdout",
     "output_type": "stream",
     "text": [
      "[1, 2, 3]\n",
      "[1, 2, 3]\n",
      "apakah list1 dan list2 sama:  False\n",
      "apakah list1 dan list2 memiliki nilai yang sama: True\n"
     ]
    }
   ],
   "source": [
    "list1 = [1, 2, 3]\n",
    "list2 = [1, 2, 3]\n",
    "\n",
    "print (list1)\n",
    "print (list2)\n",
    "print(\"apakah list1 dan list2 sama: \",list1 is list2)\n",
    "print(\"apakah list1 dan list2 memiliki nilai yang sama:\",list1==list2)"
   ]
  },
  {
   "cell_type": "markdown",
   "id": "100494d3-beec-49b9-b2d3-927f66910152",
   "metadata": {},
   "source": [
    "<h1>Operator Ternary</h1>"
   ]
  },
  {
   "cell_type": "code",
   "execution_count": 126,
   "id": "d14efda2-8432-4ff1-bd01-f214a041741d",
   "metadata": {},
   "outputs": [
    {
     "name": "stdin",
     "output_type": "stream",
     "text": [
      "Isikan bilangan: 80\n"
     ]
    },
    {
     "name": "stdout",
     "output_type": "stream",
     "text": [
      "tidak benar\n",
      "bilangan 80 lebih kecil dari 100.\n"
     ]
    }
   ],
   "source": [
    "bil = int(input(\"Isikan bilangan:\"))\n",
    "print(\"Benar\" if  bil>100 else \"tidak benar\")\n",
    "print(\"bilangan\", bil,\"lebih besar dari 100.\" if bil>100 else \"lebih kecil dari 100.\")"
   ]
  },
  {
   "cell_type": "code",
   "execution_count": 130,
   "id": "8b7d9629-6102-4b3c-8b6c-de7672822df7",
   "metadata": {},
   "outputs": [
    {
     "name": "stdin",
     "output_type": "stream",
     "text": [
      "Isikan bilangan: 75\n"
     ]
    },
    {
     "name": "stdout",
     "output_type": "stream",
     "text": [
      "score anda 75 anda lulus\n"
     ]
    }
   ],
   "source": [
    "score = int(input(\"Isikan bilangan:\"))\n",
    "print(\"score anda\", score,\"anda lulus\" if score>70 else \"anda tidak lulus.\")"
   ]
  }
 ],
 "metadata": {
  "kernelspec": {
   "display_name": "Python [conda env:base] *",
   "language": "python",
   "name": "conda-base-py"
  },
  "language_info": {
   "codemirror_mode": {
    "name": "ipython",
    "version": 3
   },
   "file_extension": ".py",
   "mimetype": "text/x-python",
   "name": "python",
   "nbconvert_exporter": "python",
   "pygments_lexer": "ipython3",
   "version": "3.12.7"
  }
 },
 "nbformat": 4,
 "nbformat_minor": 5
}
