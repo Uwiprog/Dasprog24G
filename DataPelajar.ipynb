{
 "cells": [
  {
   "cell_type": "code",
   "execution_count": 62,
   "id": "0dfdbd82-734a-4425-82e9-5e1494f362c0",
   "metadata": {},
   "outputs": [],
   "source": [
    "mhs = {}"
   ]
  },
  {
   "cell_type": "code",
   "execution_count": 56,
   "id": "113aeca2-fcca-4380-9d42-175147f36b50",
   "metadata": {},
   "outputs": [],
   "source": [
    "def MenuUtama():\n",
    "    print(\"\"\"\n",
    "    1.  Tambah Mahasiswa\n",
    "    2.  Tampilkan Seluruh Mahasiswa\n",
    "    3.  Cari Mahasiswa\n",
    "    4.  Update IPK Mahasiswa\n",
    "    5.  Hapus Mahasiswa\n",
    "    6.  Keluar Pilihan Anda:\n",
    "    \"\"\")\n",
    "    return int(input(\"Masukan Pilihan\"))\n",
    "\n",
    "def TambahPelajar():\n",
    "    NIM = int(input(\"Masukan NIM : \"))\n",
    "    nama = input(\"Masukan nama : \")\n",
    "    jurusan = input(\"Masukan jurusan : \")\n",
    "    IPK = float(input(\"Masukan IPK : \"))\n",
    "    mhs[NIM] = (nama,jurusan,IPK)\n",
    "\n",
    "def CariPelajar():\n",
    "    NIM = int(input(\"Masukan NIM yang ingin dicari : \"))\n",
    "    print(f\" NIM: {NIM} \\t Nama: {mhs[NIM][0]} \\t jurusan: {mhs[NIM][1]} \\t IPK: {mhs[NIM][2]}\")\n",
    "\n",
    "def editIPK():\n",
    "    NIM = int(input(\"Masukan NIM : \"))\n",
    "    nama,jurusan,IPK = mhs[NIM][0],mhs[NIM][1],mhs[NIM][2]\n",
    "    IPK = float(input(\"Masukan Nilai IPK : \"))\n",
    "    mhs[NIM]=(nama,jurusan,IPK)\n",
    "    print(\"IPK sudah di update\")\n",
    "\n",
    "def DoPelajar():\n",
    "    NIM = int(input(\"Masukan data NIM yang ingin di hapus : \"))\n",
    "    mhs.pop(NIM)"
   ]
  },
  {
   "cell_type": "code",
   "execution_count": 64,
   "id": "95d4d56e-d484-4f12-a8ad-a3489da6ab97",
   "metadata": {},
   "outputs": [
    {
     "name": "stdout",
     "output_type": "stream",
     "text": [
      "\n",
      "    1.  Tambah Mahasiswa\n",
      "    2.  Tampilkan Seluruh Mahasiswa\n",
      "    3.  Cari Mahasiswa\n",
      "    4.  Update IPK Mahasiswa\n",
      "    5.  Hapus Mahasiswa\n",
      "    6.  Keluar Pilihan Anda:\n",
      "    \n"
     ]
    },
    {
     "name": "stdin",
     "output_type": "stream",
     "text": [
      "Masukan Pilihan 2\n"
     ]
    },
    {
     "name": "stdout",
     "output_type": "stream",
     "text": [
      "\n",
      "    1.  Tambah Mahasiswa\n",
      "    2.  Tampilkan Seluruh Mahasiswa\n",
      "    3.  Cari Mahasiswa\n",
      "    4.  Update IPK Mahasiswa\n",
      "    5.  Hapus Mahasiswa\n",
      "    6.  Keluar Pilihan Anda:\n",
      "    \n"
     ]
    },
    {
     "name": "stdin",
     "output_type": "stream",
     "text": [
      "Masukan Pilihan 1\n",
      "Masukan NIM :  20240040174\n",
      "Masukan nama :  M.Dwi Haryanto\n",
      "Masukan jurusan :  Teknik Informatika\n",
      "Masukan IPK :  3.4\n"
     ]
    },
    {
     "name": "stdout",
     "output_type": "stream",
     "text": [
      "\n",
      "    1.  Tambah Mahasiswa\n",
      "    2.  Tampilkan Seluruh Mahasiswa\n",
      "    3.  Cari Mahasiswa\n",
      "    4.  Update IPK Mahasiswa\n",
      "    5.  Hapus Mahasiswa\n",
      "    6.  Keluar Pilihan Anda:\n",
      "    \n"
     ]
    },
    {
     "name": "stdin",
     "output_type": "stream",
     "text": [
      "Masukan Pilihan 2\n"
     ]
    },
    {
     "name": "stdout",
     "output_type": "stream",
     "text": [
      " NIM: 20240040174 \t Nama: M.Dwi Haryanto \t jurusan: Teknik Informatika \t IPK: 3.4\n",
      "\n",
      "    1.  Tambah Mahasiswa\n",
      "    2.  Tampilkan Seluruh Mahasiswa\n",
      "    3.  Cari Mahasiswa\n",
      "    4.  Update IPK Mahasiswa\n",
      "    5.  Hapus Mahasiswa\n",
      "    6.  Keluar Pilihan Anda:\n",
      "    \n"
     ]
    },
    {
     "name": "stdin",
     "output_type": "stream",
     "text": [
      "Masukan Pilihan 4\n",
      "Masukan NIM :  20240040174\n",
      "Masukan Nilai IPK :  3.6\n"
     ]
    },
    {
     "name": "stdout",
     "output_type": "stream",
     "text": [
      "IPK sudah di update\n",
      "\n",
      "    1.  Tambah Mahasiswa\n",
      "    2.  Tampilkan Seluruh Mahasiswa\n",
      "    3.  Cari Mahasiswa\n",
      "    4.  Update IPK Mahasiswa\n",
      "    5.  Hapus Mahasiswa\n",
      "    6.  Keluar Pilihan Anda:\n",
      "    \n"
     ]
    },
    {
     "name": "stdin",
     "output_type": "stream",
     "text": [
      "Masukan Pilihan 2\n"
     ]
    },
    {
     "name": "stdout",
     "output_type": "stream",
     "text": [
      " NIM: 20240040174 \t Nama: M.Dwi Haryanto \t jurusan: Teknik Informatika \t IPK: 3.6\n",
      "\n",
      "    1.  Tambah Mahasiswa\n",
      "    2.  Tampilkan Seluruh Mahasiswa\n",
      "    3.  Cari Mahasiswa\n",
      "    4.  Update IPK Mahasiswa\n",
      "    5.  Hapus Mahasiswa\n",
      "    6.  Keluar Pilihan Anda:\n",
      "    \n"
     ]
    },
    {
     "name": "stdin",
     "output_type": "stream",
     "text": [
      "Masukan Pilihan 3\n",
      "Masukan NIM yang ingin dicari :  20240040174\n"
     ]
    },
    {
     "name": "stdout",
     "output_type": "stream",
     "text": [
      " NIM: 20240040174 \t Nama: M.Dwi Haryanto \t jurusan: Teknik Informatika \t IPK: 3.6\n",
      "\n",
      "    1.  Tambah Mahasiswa\n",
      "    2.  Tampilkan Seluruh Mahasiswa\n",
      "    3.  Cari Mahasiswa\n",
      "    4.  Update IPK Mahasiswa\n",
      "    5.  Hapus Mahasiswa\n",
      "    6.  Keluar Pilihan Anda:\n",
      "    \n"
     ]
    },
    {
     "name": "stdin",
     "output_type": "stream",
     "text": [
      "Masukan Pilihan 5\n",
      "Masukan data NIM yang ingin di hapus :  20240040174\n"
     ]
    },
    {
     "name": "stdout",
     "output_type": "stream",
     "text": [
      "Mahasiswa sudah diDO\n",
      "\n",
      "    1.  Tambah Mahasiswa\n",
      "    2.  Tampilkan Seluruh Mahasiswa\n",
      "    3.  Cari Mahasiswa\n",
      "    4.  Update IPK Mahasiswa\n",
      "    5.  Hapus Mahasiswa\n",
      "    6.  Keluar Pilihan Anda:\n",
      "    \n"
     ]
    },
    {
     "name": "stdin",
     "output_type": "stream",
     "text": [
      "Masukan Pilihan 2\n"
     ]
    },
    {
     "name": "stdout",
     "output_type": "stream",
     "text": [
      "\n",
      "    1.  Tambah Mahasiswa\n",
      "    2.  Tampilkan Seluruh Mahasiswa\n",
      "    3.  Cari Mahasiswa\n",
      "    4.  Update IPK Mahasiswa\n",
      "    5.  Hapus Mahasiswa\n",
      "    6.  Keluar Pilihan Anda:\n",
      "    \n"
     ]
    },
    {
     "name": "stdin",
     "output_type": "stream",
     "text": [
      "Masukan Pilihan 6\n"
     ]
    },
    {
     "name": "stdout",
     "output_type": "stream",
     "text": [
      "Anda diDO\n"
     ]
    }
   ],
   "source": [
    "while True:\n",
    "    pil = MenuUtama()\n",
    "    if pil == 1:\n",
    "        TambahPelajar()\n",
    "    elif pil ==2:\n",
    "        for key,value in mhs.items():\n",
    "            print(f\" NIM: {key} \\t Nama: {value[0]} \\t jurusan: {value[1]} \\t IPK: {value[2]}\")\n",
    "    elif pil ==3:\n",
    "        CariPelajar()\n",
    "    elif pil ==4:\n",
    "        editIPK()\n",
    "    elif pil == 5:\n",
    "        DoPelajar()\n",
    "        print(\"Mahasiswa sudah diDO\")\n",
    "    elif pil == 6:\n",
    "        print(\"Anda diDO\")\n",
    "        break"
   ]
  },
  {
   "cell_type": "code",
   "execution_count": null,
   "id": "27c30158-0d19-48f8-9856-6fbd7aa9a6d4",
   "metadata": {},
   "outputs": [],
   "source": []
  }
 ],
 "metadata": {
  "kernelspec": {
   "display_name": "Python [conda env:base] *",
   "language": "python",
   "name": "conda-base-py"
  },
  "language_info": {
   "codemirror_mode": {
    "name": "ipython",
    "version": 3
   },
   "file_extension": ".py",
   "mimetype": "text/x-python",
   "name": "python",
   "nbconvert_exporter": "python",
   "pygments_lexer": "ipython3",
   "version": "3.12.7"
  }
 },
 "nbformat": 4,
 "nbformat_minor": 5
}
