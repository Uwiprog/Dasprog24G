{
 "cells": [
  {
   "cell_type": "code",
   "execution_count": 31,
   "id": "215eb50e-7081-493f-b5ed-a6c38e69f240",
   "metadata": {},
   "outputs": [
    {
     "name": "stdout",
     "output_type": "stream",
     "text": [
      "Nama : Dwi\n",
      "Umur : 19\n",
      "Alamat : Bekasi\n",
      "Nilai Pemrograman : 79.5\n",
      "Status Menikah : False\n"
     ]
    }
   ],
   "source": [
    "name = \"Dwi\"\n",
    "age = 19\n",
    "address, province = \"Bekasi\",\"1500444\"\n",
    "scorePython = 79.5\n",
    "isMarried = False\n",
    "\n",
    "print (\"Nama :\", name)\n",
    "print (\"Umur :\", age)\n",
    "print (\"Alamat :\",address)\n",
    "print (\"Nilai Pemrograman :\", scorePython)\n",
    "print (\"Status Menikah :\", isMarried)"
   ]
  },
  {
   "cell_type": "code",
   "execution_count": 33,
   "id": "5f36d03d-761c-40a2-86bd-8444e741db4e",
   "metadata": {},
   "outputs": [
    {
     "name": "stdout",
     "output_type": "stream",
     "text": [
      "Tipe Data <name> <class 'str'>\n",
      "Tipe Data <age> <class 'int'>\n",
      "Tipe Data <address> <class 'str'>\n",
      "Tipe Data <province> <class 'str'>\n",
      "Tipe Data <scorePython> <class 'float'>\n",
      "Tipe Data <isMarried> <class 'bool'>\n"
     ]
    }
   ],
   "source": [
    "print (\"Tipe Data <name>\", type(name))\n",
    "print (\"Tipe Data <age>\", type(age))\n",
    "print (\"Tipe Data <address>\", type (address))\n",
    "print (\"Tipe Data <province>\", type (province))\n",
    "print (\"Tipe Data <scorePython>\", type (scorePython))\n",
    "print (\"Tipe Data <isMarried>\", type (isMarried))"
   ]
  },
  {
   "cell_type": "code",
   "execution_count": 47,
   "id": "ff53e2a4-5f3d-4f0b-8f17-82e9a3e988b0",
   "metadata": {},
   "outputs": [
    {
     "name": "stdout",
     "output_type": "stream",
     "text": [
      "1500444-1500444.0-True\n",
      "19-19.0-True\n",
      "79.5-79-True\n",
      "0-False-0.0\n"
     ]
    }
   ],
   "source": [
    "#Casting atau konversi Tipe Data\n",
    "#konversi dari String ke (int,float,bool)\n",
    "strToInt = int(province)\n",
    "strToFloat = float(province)\n",
    "strToBool = bool(province)\n",
    "print(strToInt,strToFloat,strToBool,sep=\"-\")\n",
    "\n",
    "#konversi dari int ke (str,float,bool)\n",
    "intToStr = str(age)\n",
    "intToFloat = float(age)\n",
    "intToBool = bool(age)\n",
    "print(intToStr,intToFloat,intToBool,sep=\"-\")\n",
    "\n",
    "#Konversi dari float ke (str,int,bool)\n",
    "floatToStr = str(scorePython)\n",
    "floatToInt = int(scorePython)\n",
    "floatToBool = bool(scorePython)\n",
    "print(floatToStr,floatToInt,floatToBool,sep=\"-\")\n",
    "\n",
    "#Konversi bool ke (int,str,float)\n",
    "boolToInt = int(isMarried)\n",
    "boolToStr = str(isMarried)\n",
    "boolToFloat = float(isMarried)\n",
    "print(boolToInt,boolToStr,boolToFloat,sep=\"-\")"
   ]
  },
  {
   "cell_type": "code",
   "execution_count": 65,
   "id": "4a74583d-4644-49fd-9986-0164bc5b1ac6",
   "metadata": {},
   "outputs": [
    {
     "name": "stdout",
     "output_type": "stream",
     "text": [
      "Nilai desimal : 500\n",
      "Nilai Biner : 10\n",
      "Nilai Octal : 255\n",
      "Nilai Hexa : 255\n",
      "Nilai biner dari  500 : 0b111110100\n",
      "Nilai Octal dari  500 : 0o764\n",
      "Nilai Hexa dari  500 : 0x1f4\n"
     ]
    }
   ],
   "source": [
    "#Tipe data basis bilangan (desimal,biner,octal,hexa)\n",
    "desimal = 500\n",
    "biner = 0b1010 #10\n",
    "octal = 0o377 #255\n",
    "hexa = 0xff #255\n",
    "\n",
    "print(\"Nilai desimal :\",desimal)\n",
    "print(\"Nilai Biner :\",biner)\n",
    "print(\"Nilai Octal :\",octal)\n",
    "print(\"Nilai Hexa :\",hexa)\n",
    "\n",
    "print(\"Nilai biner dari \",desimal, \":\",bin(desimal))\n",
    "print(\"Nilai Octal dari \",desimal, \":\",oct(desimal))\n",
    "print(\"Nilai Hexa dari \",desimal, \":\",hex(desimal))"
   ]
  },
  {
   "cell_type": "code",
   "execution_count": 99,
   "id": "85da7b2b-4dd9-4d63-9730-b75969cce864",
   "metadata": {},
   "outputs": [
    {
     "name": "stdout",
     "output_type": "stream",
     "text": [
      "['Bandung', 'Bekasi', 'Jakarta', 'Sukabumi', 'Banten']\n",
      "Bandung\n",
      "Banten\n",
      "B\n",
      "n\n",
      "['Kediri', 'Bekasi', 'Jakarta', 'Sukabumi', 'Banten']\n",
      "('Aufa', 'Zafran', 'Naufal')\n",
      "Zafran\n",
      "{'name': 'Aufa', 'age': 20, 'address': {'street': 'Soedirman', 'number': 15, 'Province': 'DKI-Jakarta'}, 'isMarried': False, 'hobbies': ['Badminton', 'Futsal', 'Ngoding']}\n",
      "20\n",
      "DKI-Jakarta\n",
      "Badminton\n",
      "{'name': 'Zafran', 'age': 19, 'address': {'street': 'Jl.Elang', 'number': 5, 'Province': 'Jawa Barat'}, 'isMarried': False, 'hobbies': ['Badminton', 'Futsal', 'Ngoding']}\n",
      "{'name': 'Naufal', 'age': 18, 'address': {'street': 'Jl. Garuda', 'number': 4, 'Province': 'Jawa Barat'}, 'isMarried': False, 'hobbies': ['Main Game', 'Sepeda']}\n",
      "Jawa Barat\n"
     ]
    }
   ],
   "source": [
    "#Tipe Data Collection\n",
    "#List\n",
    "cities = [\"Bandung\",\"Bekasi\",\"Jakarta\",\"Sukabumi\",\"Banten\"]\n",
    "lengthCities = len(cities)\n",
    "print(cities)\n",
    "print(cities[0])\n",
    "print(cities[lengthCities-1])\n",
    "print(cities[lengthCities-1][0])\n",
    "print(cities[lengthCities-1][len(cities[lengthCities-1])-1])\n",
    "cities[0] = \"Kediri\"\n",
    "print(cities)\n",
    "\n",
    "#Tuple\n",
    "names = (\"Aufa\",\"Zafran\",\"Naufal\")\n",
    "print(names)\n",
    "print(names[1])\n",
    "\n",
    "#Dictionary\n",
    "studentData = {\n",
    "    \"name\" : \"Aufa\",\n",
    "    \"age\" : 20,\n",
    "    \"address\" : {\n",
    "        \"street\" : \"Soedirman\",\n",
    "        \"number\" : 15,\n",
    "        \"Province\" : \"DKI-Jakarta\"\n",
    "    },\n",
    "    \"isMarried\" : False,\n",
    "    \"hobbies\" : [\"Badminton\", \"Futsal\", \"Ngoding\"]\n",
    "}\n",
    "\n",
    "print(studentData)\n",
    "print(studentData[\"age\"])\n",
    "print(studentData[\"address\"] [\"Province\"])\n",
    "print(studentData[\"hobbies\"] [0])\n",
    "\n",
    "#List of Dictionary\n",
    "studentList = [\n",
    "{\n",
    "    \"name\" : \"Zafran\",\n",
    "    \"age\" : 19,\n",
    "    \"address\" : {\n",
    "        \"street\" : \"Jl.Elang\",\n",
    "        \"number\" : 5,\n",
    "        \"Province\" : \"Jawa Barat\"\n",
    "    },\n",
    "    \"isMarried\" : False,\n",
    "    \"hobbies\" : [\"Badminton\", \"Futsal\", \"Ngoding\"]\n",
    "},\n",
    "{\n",
    "    \"name\" : \"Naufal\",\n",
    "    \"age\" : 18,\n",
    "    \"address\" : {\n",
    "        \"street\" : \"Jl. Garuda\",\n",
    "        \"number\" : 4,\n",
    "        \"Province\" : \"Jawa Barat\"\n",
    "    },\n",
    "    \"isMarried\" : False,\n",
    "    \"hobbies\" : [\"Main Game\", \"Sepeda\"]\n",
    "}\n",
    "]\n",
    "print(studentList[0])\n",
    "print(studentList[1])\n",
    "print(studentList[1] [\"address\"][\"Province\"])"
   ]
  },
  {
   "cell_type": "code",
   "execution_count": 113,
   "id": "9b400e5f-b79f-43cb-b955-bec9a115c106",
   "metadata": {},
   "outputs": [
    {
     "name": "stdout",
     "output_type": "stream",
     "text": [
      "{'Name': 'Aufa', 'age': 20, 'Status': False}\n",
      "{'Name': 'Zafran', 'address': 'Jl.Elang'}\n",
      "{'Name': 'Kerbau', 'Type': 'Mamalia'}\n",
      "{'Name': 'Burung', 'Type': 'Unggas'}\n"
     ]
    }
   ],
   "source": [
    "#Konversi Dictionary\n",
    "list_list = [[\"Name\", \"Aufa\"],[\"age\", 20],[\"Status\",False]]\n",
    "dictListSenior = dict(list_list)\n",
    "print(dictListSenior)\n",
    "list_tuple = [(\"Name\",\"Zafran\"),(\"address\", \"Jl.Elang\")]\n",
    "dictTupleStudent = dict(list_tuple)\n",
    "print(dictTupleStudent)\n",
    "tuple_list = ([\"Name\", \"Kerbau\"],[\"Type\", \"Mamalia\"])\n",
    "dictListAnimal = dict(tuple_list)\n",
    "print(dictListAnimal)\n",
    "tuple_tuple = ((\"Name\",\"Burung\"),(\"Type\", \"Unggas\"))\n",
    "dictTupAnimal = dict(tuple_tuple)\n",
    "print(dictTupAnimal)"
   ]
  },
  {
   "cell_type": "code",
   "execution_count": null,
   "id": "924f6af8-9bf6-4bd3-989b-2999e0de517b",
   "metadata": {},
   "outputs": [],
   "source": []
  }
 ],
 "metadata": {
  "kernelspec": {
   "display_name": "Python [conda env:base] *",
   "language": "python",
   "name": "conda-base-py"
  },
  "language_info": {
   "codemirror_mode": {
    "name": "ipython",
    "version": 3
   },
   "file_extension": ".py",
   "mimetype": "text/x-python",
   "name": "python",
   "nbconvert_exporter": "python",
   "pygments_lexer": "ipython3",
   "version": "3.12.7"
  }
 },
 "nbformat": 4,
 "nbformat_minor": 5
}
