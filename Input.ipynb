{
 "cells": [
  {
   "cell_type": "markdown",
   "id": "e5af97c2",
   "metadata": {},
   "source": [
    "<h1>input</h1>"
   ]
  },
  {
   "cell_type": "code",
   "execution_count": 9,
   "id": "5a76d069",
   "metadata": {},
   "outputs": [
    {
     "name": "stdout",
     "output_type": "stream",
     "text": [
      "isikan nama anda: Dwi\n",
      "Selamat datang Dwi\n",
      "Selamat datang Andi ||Selamat datang Budi ||Selamat datang Dina\n",
      "Anggur,Apel,Semangka\n"
     ]
    }
   ],
   "source": [
    "nama = input(\"isikan nama anda: \")\n",
    "print(\"Selamat datang\", nama)\n",
    "\n",
    "print(\"Selamat datang Andi ||\", end='')\n",
    "print(\"Selamat datang Budi ||\", end='')\n",
    "print(\"Selamat datang Dina\")\n",
    "print(\"Anggur\", \"Apel\", \"Semangka\", sep=',')"
   ]
  },
  {
   "cell_type": "code",
   "execution_count": 12,
   "id": "6cdd0170",
   "metadata": {},
   "outputs": [
    {
     "name": "stdout",
     "output_type": "stream",
     "text": [
      "Isikan bilangan 1:2\n",
      "Isikan bilangan 2:54\n",
      "hasil penjumlahan dari 2+54=56\n"
     ]
    }
   ],
   "source": [
    "val1 = int(input(\"Isikan bilangan 1:\"))\n",
    "val2 = int(input(\"Isikan bilangan 2:\"))\n",
    "result = val1 + val2\n",
    "\n",
    "print (\"hasil penjumlahan dari {}+{}={}\".format(val1,val2,result))"
   ]
  },
  {
   "cell_type": "code",
   "execution_count": 19,
   "id": "0d514097",
   "metadata": {},
   "outputs": [
    {
     "name": "stdout",
     "output_type": "stream",
     "text": [
      "Isikan Nama Awal:M\n",
      "isikan Nama Tengah:Dwi\n",
      "isikan Nama Akhir:haryanto\n",
      "Nama Lengkap:M Dwi haryanto\n",
      "Nama Lengkap: Jibril\n"
     ]
    }
   ],
   "source": [
    "Name = input(\"Isikan Nama Awal:\")\n",
    "mName = input(\"isikan Nama Tengah:\")\n",
    "lName = input(\"isikan Nama Akhir:\")\n",
    "\n",
    "print(\"Nama Lengkap:{0} {1} {2}\".format(Name,mName,lName))\n",
    "\n",
    "#key\n",
    "print(\"Nama Lengkap: {depan}{tengah}{belakang}\".format(belakang='il',tengah='br',depan='Ji'))"
   ]
  },
  {
   "cell_type": "code",
   "execution_count": 26,
   "id": "d3a9dca7",
   "metadata": {},
   "outputs": [
    {
     "name": "stdout",
     "output_type": "stream",
     "text": [
      "Isikan NIM Anda:Katak\n",
      "Tahun Masuk :Kata\n",
      "Prodi Anda : Tidak Keren\n",
      "No.Urut : \n",
      "Angka NIM yang paling akhir: k\n",
      "Nim setelah di reverse : kataK\n"
     ]
    }
   ],
   "source": [
    "#slicing\n",
    "nim = input(\"Isikan NIM Anda:\")\n",
    "tahun = nim[0:4]\n",
    "KodeProdi = nim[4:7]\n",
    "prodi = \"Teknik Informatika\" if KodeProdi==\"004\" else \"Tidak Keren\"\n",
    "urut = nim[7:11]\n",
    "#Fstring\n",
    "print (f\"Tahun Masuk :{tahun}\")\n",
    "print (f\"Prodi Anda : {prodi}\")\n",
    "print (f\"No.Urut : {urut}\")\n",
    "print (f\"Angka NIM yang paling akhir: {nim[-1]}\")\n",
    "print (f\"Nim setelah di reverse : {nim[::-1]}\")"
   ]
  },
  {
   "cell_type": "code",
   "execution_count": 33,
   "id": "7c2dd730",
   "metadata": {},
   "outputs": [
    {
     "name": "stdout",
     "output_type": "stream",
     "text": [
      "Belajar\n",
      "Python\n",
      "itu\n",
      "mudah\n",
      "3\n"
     ]
    }
   ],
   "source": [
    "#Fungsi String\n",
    "#split -> untuk memisahkan string berdasarkan karakter\n",
    "kalimat = \"Belajar Python itu mudah\"\n",
    "kata = kalimat.split(' ')\n",
    "print(kata[0])\n",
    "print(kata[1])\n",
    "print(kata[2])\n",
    "print(kata[3])\n",
    "\n",
    "#find -> akan menghasil posisi/indeks dari dari sebuah karakter jika ditemukan\n",
    "#find -> akan bernilai -1 jika tidak ditemukan\n",
    "platMotor =\"F9876WE\"\n",
    "print (platMotor.find(\"7\"))"
   ]
  },
  {
   "cell_type": "code",
   "execution_count": 36,
   "id": "488f7e5c",
   "metadata": {},
   "outputs": [
    {
     "name": "stdout",
     "output_type": "stream",
     "text": [
      "masukan email Anda: dwi@gmail.com\n",
      "valid\n"
     ]
    }
   ],
   "source": [
    "email = input(\"masukan email Anda: \")\n",
    "at = email.find(\"@\")\n",
    "dot = email.find(\".\")\n",
    "print (\"valid\")  if dot >=0 and at >=0 and at<dot else \"tidak Valid\""
   ]
  },
  {
   "cell_type": "code",
   "execution_count": 46,
   "id": "2d930f35",
   "metadata": {},
   "outputs": [
    {
     "name": "stdout",
     "output_type": "stream",
     "text": [
      "0.6767024506517813\n",
      "86\n",
      "Mar\n",
      "['Sab', 6]\n"
     ]
    }
   ],
   "source": [
    "import random as r\n",
    "\n",
    "nilaiFloat = r.random() #bilangan float 0 - 1\n",
    "print (nilaiFloat)\n",
    "\n",
    "nilaiInt = r.randint(0,100)\n",
    "print(nilaiInt)\n",
    "\n",
    "Bulan = [\"Jan\",\"Feb\",\"Mar\",\"Apr\",\"Mei\",\"Jun\",\"Jul\",\"agu\",\"Sep\"]\n",
    "cBulan =r.choice(Bulan)\n",
    "print(cBulan)\n",
    "\n",
    "Hari = [[\"Sen\",1],[\"Sel\",2],[\"Rab\",3],[\"Kam\",4],[\"jum\",5],[\"Sab\",6],[\"Min\",7]]\n",
    "cHari = r.choice (Hari)\n",
    "print(cHari)"
   ]
  },
  {
   "cell_type": "code",
   "execution_count": 51,
   "id": "0bc9b62f",
   "metadata": {},
   "outputs": [
    {
     "name": "stdout",
     "output_type": "stream",
     "text": [
      "Bahasa inggris dari Tikus adalah :\n",
      "jawab :mouse\n",
      "Anda benar\n"
     ]
    }
   ],
   "source": [
    "import random as r\n",
    "kamus = [[\"makan\",\"eat\"], [\"penggaris\",\"rule\"],[\"Tikus\",\"mouse\"]]\n",
    "ckamus = r.choice(kamus)\n",
    "\n",
    "print(\"Bahasa inggris dari\",ckamus[0],\"adalah :\")\n",
    "jawab = input(\"jawab :\")\n",
    "print(\"Anda benar\") if jawab == ckamus[1] else \"Anda salah\""
   ]
  },
  {
   "cell_type": "code",
   "execution_count": 4,
   "id": "089715bb",
   "metadata": {},
   "outputs": [
    {
     "name": "stdout",
     "output_type": "stream",
     "text": [
      "1.ENG -> IND, 2.IND -> ENG1\n",
      "Bahasa inggris dari makan adalah:\n",
      "Masukan jawaban anda :botle\n",
      "Anda salah\n"
     ]
    }
   ],
   "source": [
    "import random as r\n",
    "kamus = [[\"makan\",\"eat\"], [\"penggaris\",\"rule\"],[\"Tikus\",\"mouse\"]]\n",
    "ckamus = r.choice(kamus)\n",
    "pilihan = input(\"1.ENG -> IND, 2.IND -> ENG\")\n",
    "if pilihan == \"1\":\n",
    "    print (\"Bahasa inggris dari\",ckamus[0],\"adalah:\")\n",
    "    jawab = input(\"Masukan jawaban anda :\")\n",
    "    result = \"Anda Benar\" if jawab == ckamus[1] else \"Anda salah\"\n",
    "else:\n",
    "    print (\"Bahasa Indonesia dari\",ckamus[1],\"adalah:\")\n",
    "    jawab = input(\"Masukan jawaban anda :\")\n",
    "    result = \"Anda Benar\" if jawab == ckamus[0] else \"Anda salah\"\n",
    "print (result)"
   ]
  },
  {
   "cell_type": "code",
   "execution_count": null,
   "id": "424f618c",
   "metadata": {},
   "outputs": [],
   "source": []
  }
 ],
 "metadata": {
  "kernelspec": {
   "display_name": "Python 3 (ipykernel)",
   "language": "python",
   "name": "python3"
  },
  "language_info": {
   "codemirror_mode": {
    "name": "ipython",
    "version": 3
   },
   "file_extension": ".py",
   "mimetype": "text/x-python",
   "name": "python",
   "nbconvert_exporter": "python",
   "pygments_lexer": "ipython3",
   "version": "3.9.12"
  }
 },
 "nbformat": 4,
 "nbformat_minor": 5
}
